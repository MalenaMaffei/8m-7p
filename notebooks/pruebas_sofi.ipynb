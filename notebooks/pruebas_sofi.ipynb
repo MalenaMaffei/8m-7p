{
 "cells": [
  {
   "cell_type": "code",
   "execution_count": 262,
   "metadata": {},
   "outputs": [],
   "source": [
    "import tabula\n",
    "import pandas as pd\n",
    "import re\n",
    "import gender_guesser.detector as gender"
   ]
  },
  {
   "cell_type": "markdown",
   "metadata": {},
   "source": [
    "## Eliminar puntuacion/tildes"
   ]
  },
  {
   "cell_type": "code",
   "execution_count": 263,
   "metadata": {},
   "outputs": [],
   "source": [
    "def _deaccent(s):\n",
    "    return s.translate(str.maketrans('áâãàéêíóôõúü','aaaaeeiooouu'))"
   ]
  },
  {
   "cell_type": "markdown",
   "metadata": {},
   "source": [
    "### Esto genera una lista de de dataframe"
   ]
  },
  {
   "cell_type": "code",
   "execution_count": 9,
   "metadata": {
    "scrolled": true
   },
   "outputs": [],
   "source": [
    "l = tabula.read_pdf(\"../data/jura20191129.pdf\", encoding='utf-8', pages='1-13')"
   ]
  },
  {
   "cell_type": "code",
   "execution_count": 10,
   "metadata": {},
   "outputs": [
    {
     "data": {
      "text/plain": [
       "13"
      ]
     },
     "execution_count": 10,
     "metadata": {},
     "output_type": "execute_result"
    }
   ],
   "source": [
    "len(l)"
   ]
  },
  {
   "cell_type": "code",
   "execution_count": 11,
   "metadata": {
    "scrolled": true
   },
   "outputs": [
    {
     "data": {
      "text/html": [
       "<div>\n",
       "<style scoped>\n",
       "    .dataframe tbody tr th:only-of-type {\n",
       "        vertical-align: middle;\n",
       "    }\n",
       "\n",
       "    .dataframe tbody tr th {\n",
       "        vertical-align: top;\n",
       "    }\n",
       "\n",
       "    .dataframe thead th {\n",
       "        text-align: right;\n",
       "    }\n",
       "</style>\n",
       "<table border=\"1\" class=\"dataframe\">\n",
       "  <thead>\n",
       "    <tr style=\"text-align: right;\">\n",
       "      <th></th>\n",
       "      <th>TITULO</th>\n",
       "      <th>Apellidos y nombres</th>\n",
       "    </tr>\n",
       "  </thead>\n",
       "  <tbody>\n",
       "    <tr>\n",
       "      <th>0</th>\n",
       "      <td>Profesora Ens.Med.y Sup.Biología</td>\n",
       "      <td>ABALDE Lis Yazmín</td>\n",
       "    </tr>\n",
       "    <tr>\n",
       "      <th>1</th>\n",
       "      <td>Ldo. Cs.Computación</td>\n",
       "      <td>ABOY SOLANES Santiago</td>\n",
       "    </tr>\n",
       "    <tr>\n",
       "      <th>2</th>\n",
       "      <td>Ldo. Cs.Físicas</td>\n",
       "      <td>ABREVAYA Germán Ezequiel</td>\n",
       "    </tr>\n",
       "    <tr>\n",
       "      <th>3</th>\n",
       "      <td>Lda. Cs.Matemáticas</td>\n",
       "      <td>ACCOMAZZO SCOTTI Natalia Celeste</td>\n",
       "    </tr>\n",
       "    <tr>\n",
       "      <th>4</th>\n",
       "      <td>Lda. Cs.Geológicas</td>\n",
       "      <td>ACEVEDO Eliana Belén</td>\n",
       "    </tr>\n",
       "    <tr>\n",
       "      <th>5</th>\n",
       "      <td>Ldo. Cs.Matemáticas</td>\n",
       "      <td>ACRI Emiliano Francisco</td>\n",
       "    </tr>\n",
       "    <tr>\n",
       "      <th>6</th>\n",
       "      <td>Ldo. Cs.Biológicas</td>\n",
       "      <td>ADOT Francisco</td>\n",
       "    </tr>\n",
       "    <tr>\n",
       "      <th>7</th>\n",
       "      <td>Lda. Cs.Geológicas</td>\n",
       "      <td>AGOSTINELLI Mercedes Salomé</td>\n",
       "    </tr>\n",
       "    <tr>\n",
       "      <th>8</th>\n",
       "      <td>Ldo. Cs.Biológicas</td>\n",
       "      <td>AGUERREBERRY Emiliano</td>\n",
       "    </tr>\n",
       "    <tr>\n",
       "      <th>9</th>\n",
       "      <td>Magister UBA en Meteorología Agrícola</td>\n",
       "      <td>AGUILERA Regina Beatriz</td>\n",
       "    </tr>\n",
       "    <tr>\n",
       "      <th>10</th>\n",
       "      <td>Dr. UBA(Cs.Biológicas)</td>\n",
       "      <td>AGUILERA SAMMARITANO Juan Alberto</td>\n",
       "    </tr>\n",
       "    <tr>\n",
       "      <th>11</th>\n",
       "      <td>Ldo. Cs.Biológicas</td>\n",
       "      <td>AGUIRRE Cristian Daniel</td>\n",
       "    </tr>\n",
       "    <tr>\n",
       "      <th>12</th>\n",
       "      <td>Dr. UBA(Cs.Físicas)</td>\n",
       "      <td>ALBERTI Alejo</td>\n",
       "    </tr>\n",
       "    <tr>\n",
       "      <th>13</th>\n",
       "      <td>Profesora Ens.Med.y Sup.Biología</td>\n",
       "      <td>ALBIONI MONTENEGRO Gloria Eva</td>\n",
       "    </tr>\n",
       "    <tr>\n",
       "      <th>14</th>\n",
       "      <td>Lda. Cs.Biológicas</td>\n",
       "      <td>ALFARO  Elisa Raquel</td>\n",
       "    </tr>\n",
       "    <tr>\n",
       "      <th>15</th>\n",
       "      <td>Ldo. Cs.Computación</td>\n",
       "      <td>ALFONSO Mauricio</td>\n",
       "    </tr>\n",
       "    <tr>\n",
       "      <th>16</th>\n",
       "      <td>Analista Universitaria de Computación</td>\n",
       "      <td>ALFONSO Mauricio</td>\n",
       "    </tr>\n",
       "    <tr>\n",
       "      <th>17</th>\n",
       "      <td>Lda. Cs.Biológicas</td>\n",
       "      <td>ALLEN DOHLE Sharon Ingrid</td>\n",
       "    </tr>\n",
       "    <tr>\n",
       "      <th>18</th>\n",
       "      <td>Dr. UBA(Cs.Físicas)</td>\n",
       "      <td>ALLEN Pablo Guillermo</td>\n",
       "    </tr>\n",
       "    <tr>\n",
       "      <th>19</th>\n",
       "      <td>Ldo. Cs.Biológicas</td>\n",
       "      <td>ALONSO Ignacio</td>\n",
       "    </tr>\n",
       "    <tr>\n",
       "      <th>20</th>\n",
       "      <td>Esp. en Exp.de Datos y Desc.de Conocimiento</td>\n",
       "      <td>ALONSO Mónica Liliana</td>\n",
       "    </tr>\n",
       "    <tr>\n",
       "      <th>21</th>\n",
       "      <td>Dr. UBA(Cs.Físicas)</td>\n",
       "      <td>ALONSO Rodrigo</td>\n",
       "    </tr>\n",
       "    <tr>\n",
       "      <th>22</th>\n",
       "      <td>Ldo. Cs.Computación</td>\n",
       "      <td>ALVAREZ Matias Exequiel</td>\n",
       "    </tr>\n",
       "    <tr>\n",
       "      <th>23</th>\n",
       "      <td>Lda. Cs.Físicas</td>\n",
       "      <td>ALVAREZ MERCÉ Rocío</td>\n",
       "    </tr>\n",
       "    <tr>\n",
       "      <th>24</th>\n",
       "      <td>Lda. Cs.Biológicas</td>\n",
       "      <td>AMAR Agustina</td>\n",
       "    </tr>\n",
       "    <tr>\n",
       "      <th>25</th>\n",
       "      <td>Lda. Cs.Biológicas</td>\n",
       "      <td>AMENEIRO Leila Soledad</td>\n",
       "    </tr>\n",
       "    <tr>\n",
       "      <th>26</th>\n",
       "      <td>Ldo. Cs.Químicas</td>\n",
       "      <td>AMREIN Fernando</td>\n",
       "    </tr>\n",
       "    <tr>\n",
       "      <th>27</th>\n",
       "      <td>Dra. UBA(Química Biológica)</td>\n",
       "      <td>ANDINO PAVLOVSKY Victoria</td>\n",
       "    </tr>\n",
       "    <tr>\n",
       "      <th>28</th>\n",
       "      <td>Ldo. Cs.Químicas</td>\n",
       "      <td>ANTON Matias</td>\n",
       "    </tr>\n",
       "    <tr>\n",
       "      <th>29</th>\n",
       "      <td>Dr. UBA(Química Biológica)</td>\n",
       "      <td>APTEKMANN Ariel Alejandro</td>\n",
       "    </tr>\n",
       "    <tr>\n",
       "      <th>30</th>\n",
       "      <td>Dr. UBA(Química Biológica)</td>\n",
       "      <td>ARCÓN Juan Pablo</td>\n",
       "    </tr>\n",
       "    <tr>\n",
       "      <th>31</th>\n",
       "      <td>Lda. Cs.Computación</td>\n",
       "      <td>ARROYO Virginia Inés</td>\n",
       "    </tr>\n",
       "    <tr>\n",
       "      <th>32</th>\n",
       "      <td>Esp. en Exp.de Datos y Desc.de Conocimiento</td>\n",
       "      <td>ARRUTI Juan Pablo</td>\n",
       "    </tr>\n",
       "    <tr>\n",
       "      <th>33</th>\n",
       "      <td>Magister UBA en Exp.de Datos y Desc.de Conocim...</td>\n",
       "      <td>AVALOS SERRANO Veronica Nathali</td>\n",
       "    </tr>\n",
       "    <tr>\n",
       "      <th>34</th>\n",
       "      <td>Lda. Cs.Biológicas</td>\n",
       "      <td>AYRE Marina</td>\n",
       "    </tr>\n",
       "    <tr>\n",
       "      <th>35</th>\n",
       "      <td>Bachiller Universitario Cs.Atmósfera</td>\n",
       "      <td>BACIGALUPPI Marco</td>\n",
       "    </tr>\n",
       "    <tr>\n",
       "      <th>36</th>\n",
       "      <td>Dr. UBA(Cs.Atmósfera y los Océanos)</td>\n",
       "      <td>BACINO Guido Luis</td>\n",
       "    </tr>\n",
       "    <tr>\n",
       "      <th>37</th>\n",
       "      <td>Ldo. Cs.Físicas</td>\n",
       "      <td>BADIA Javier</td>\n",
       "    </tr>\n",
       "    <tr>\n",
       "      <th>38</th>\n",
       "      <td>Dra. UBA(Cs.Biológicas)</td>\n",
       "      <td>BALAZOTE OLIVER Agustina</td>\n",
       "    </tr>\n",
       "    <tr>\n",
       "      <th>39</th>\n",
       "      <td>Magister UBA en Exp.de Datos y Desc.de Conocim...</td>\n",
       "      <td>BANCHERO Santiago</td>\n",
       "    </tr>\n",
       "    <tr>\n",
       "      <th>40</th>\n",
       "      <td>Dr. UBA(Cs.Físicas)</td>\n",
       "      <td>BARABAS Federico Martin</td>\n",
       "    </tr>\n",
       "    <tr>\n",
       "      <th>41</th>\n",
       "      <td>Dr. UBA(Cs.Químicas)</td>\n",
       "      <td>BARALDO VICTORICA Luis Mario</td>\n",
       "    </tr>\n",
       "    <tr>\n",
       "      <th>42</th>\n",
       "      <td>Ldo. Cs.Físicas</td>\n",
       "      <td>BARLARI Martín</td>\n",
       "    </tr>\n",
       "    <tr>\n",
       "      <th>43</th>\n",
       "      <td>Dra. UBA(Cs.Matemáticas)</td>\n",
       "      <td>BARONCINI Carla Antonella</td>\n",
       "    </tr>\n",
       "    <tr>\n",
       "      <th>44</th>\n",
       "      <td>Dr. UBA(Química Orgánica)</td>\n",
       "      <td>BARRADAS José Sebastián</td>\n",
       "    </tr>\n",
       "    <tr>\n",
       "      <th>45</th>\n",
       "      <td>Ldo. Cs.Físicas</td>\n",
       "      <td>BARRERA LEMARCHAND Federico Ulises</td>\n",
       "    </tr>\n",
       "    <tr>\n",
       "      <th>46</th>\n",
       "      <td>Dr. UBA(Química Biológica)</td>\n",
       "      <td>BARRIONUEVO Matías Raúl</td>\n",
       "    </tr>\n",
       "    <tr>\n",
       "      <th>47</th>\n",
       "      <td>Ldo. Cs.Biológicas</td>\n",
       "      <td>BATTINI Leandro</td>\n",
       "    </tr>\n",
       "    <tr>\n",
       "      <th>48</th>\n",
       "      <td>Analista Universitario de Computación</td>\n",
       "      <td>BAYARDO SPADAFORA Julian</td>\n",
       "    </tr>\n",
       "    <tr>\n",
       "      <th>49</th>\n",
       "      <td>Magister UBA en Exp.de Datos y Desc.de Conocim...</td>\n",
       "      <td>BAYLE Federico</td>\n",
       "    </tr>\n",
       "    <tr>\n",
       "      <th>50</th>\n",
       "      <td>Esp. en Exp.de Datos y Desc.de Conocimiento</td>\n",
       "      <td>BAYLE Federico</td>\n",
       "    </tr>\n",
       "    <tr>\n",
       "      <th>51</th>\n",
       "      <td>Dr. UBA(Cs.Biológicas)</td>\n",
       "      <td>BECERRA Marcos Gabriel</td>\n",
       "    </tr>\n",
       "    <tr>\n",
       "      <th>52</th>\n",
       "      <td>Ldo. Cs.Biológicas</td>\n",
       "      <td>BELDORATI German Gabriel</td>\n",
       "    </tr>\n",
       "  </tbody>\n",
       "</table>\n",
       "</div>"
      ],
      "text/plain": [
       "                                               TITULO  \\\n",
       "0                    Profesora Ens.Med.y Sup.Biología   \n",
       "1                                 Ldo. Cs.Computación   \n",
       "2                                     Ldo. Cs.Físicas   \n",
       "3                                 Lda. Cs.Matemáticas   \n",
       "4                                  Lda. Cs.Geológicas   \n",
       "5                                 Ldo. Cs.Matemáticas   \n",
       "6                                  Ldo. Cs.Biológicas   \n",
       "7                                  Lda. Cs.Geológicas   \n",
       "8                                  Ldo. Cs.Biológicas   \n",
       "9               Magister UBA en Meteorología Agrícola   \n",
       "10                             Dr. UBA(Cs.Biológicas)   \n",
       "11                                 Ldo. Cs.Biológicas   \n",
       "12                                Dr. UBA(Cs.Físicas)   \n",
       "13                   Profesora Ens.Med.y Sup.Biología   \n",
       "14                                 Lda. Cs.Biológicas   \n",
       "15                                Ldo. Cs.Computación   \n",
       "16              Analista Universitaria de Computación   \n",
       "17                                 Lda. Cs.Biológicas   \n",
       "18                                Dr. UBA(Cs.Físicas)   \n",
       "19                                 Ldo. Cs.Biológicas   \n",
       "20        Esp. en Exp.de Datos y Desc.de Conocimiento   \n",
       "21                                Dr. UBA(Cs.Físicas)   \n",
       "22                                Ldo. Cs.Computación   \n",
       "23                                    Lda. Cs.Físicas   \n",
       "24                                 Lda. Cs.Biológicas   \n",
       "25                                 Lda. Cs.Biológicas   \n",
       "26                                   Ldo. Cs.Químicas   \n",
       "27                        Dra. UBA(Química Biológica)   \n",
       "28                                   Ldo. Cs.Químicas   \n",
       "29                         Dr. UBA(Química Biológica)   \n",
       "30                         Dr. UBA(Química Biológica)   \n",
       "31                                Lda. Cs.Computación   \n",
       "32        Esp. en Exp.de Datos y Desc.de Conocimiento   \n",
       "33  Magister UBA en Exp.de Datos y Desc.de Conocim...   \n",
       "34                                 Lda. Cs.Biológicas   \n",
       "35               Bachiller Universitario Cs.Atmósfera   \n",
       "36                Dr. UBA(Cs.Atmósfera y los Océanos)   \n",
       "37                                    Ldo. Cs.Físicas   \n",
       "38                            Dra. UBA(Cs.Biológicas)   \n",
       "39  Magister UBA en Exp.de Datos y Desc.de Conocim...   \n",
       "40                                Dr. UBA(Cs.Físicas)   \n",
       "41                               Dr. UBA(Cs.Químicas)   \n",
       "42                                    Ldo. Cs.Físicas   \n",
       "43                           Dra. UBA(Cs.Matemáticas)   \n",
       "44                          Dr. UBA(Química Orgánica)   \n",
       "45                                    Ldo. Cs.Físicas   \n",
       "46                         Dr. UBA(Química Biológica)   \n",
       "47                                 Ldo. Cs.Biológicas   \n",
       "48              Analista Universitario de Computación   \n",
       "49  Magister UBA en Exp.de Datos y Desc.de Conocim...   \n",
       "50        Esp. en Exp.de Datos y Desc.de Conocimiento   \n",
       "51                             Dr. UBA(Cs.Biológicas)   \n",
       "52                                 Ldo. Cs.Biológicas   \n",
       "\n",
       "                   Apellidos y nombres  \n",
       "0                    ABALDE Lis Yazmín  \n",
       "1                ABOY SOLANES Santiago  \n",
       "2             ABREVAYA Germán Ezequiel  \n",
       "3     ACCOMAZZO SCOTTI Natalia Celeste  \n",
       "4                 ACEVEDO Eliana Belén  \n",
       "5              ACRI Emiliano Francisco  \n",
       "6                       ADOT Francisco  \n",
       "7          AGOSTINELLI Mercedes Salomé  \n",
       "8                AGUERREBERRY Emiliano  \n",
       "9              AGUILERA Regina Beatriz  \n",
       "10   AGUILERA SAMMARITANO Juan Alberto  \n",
       "11             AGUIRRE Cristian Daniel  \n",
       "12                       ALBERTI Alejo  \n",
       "13       ALBIONI MONTENEGRO Gloria Eva  \n",
       "14                ALFARO  Elisa Raquel  \n",
       "15                    ALFONSO Mauricio  \n",
       "16                    ALFONSO Mauricio  \n",
       "17           ALLEN DOHLE Sharon Ingrid  \n",
       "18               ALLEN Pablo Guillermo  \n",
       "19                      ALONSO Ignacio  \n",
       "20               ALONSO Mónica Liliana  \n",
       "21                      ALONSO Rodrigo  \n",
       "22             ALVAREZ Matias Exequiel  \n",
       "23                 ALVAREZ MERCÉ Rocío  \n",
       "24                       AMAR Agustina  \n",
       "25              AMENEIRO Leila Soledad  \n",
       "26                     AMREIN Fernando  \n",
       "27           ANDINO PAVLOVSKY Victoria  \n",
       "28                        ANTON Matias  \n",
       "29           APTEKMANN Ariel Alejandro  \n",
       "30                    ARCÓN Juan Pablo  \n",
       "31                ARROYO Virginia Inés  \n",
       "32                   ARRUTI Juan Pablo  \n",
       "33     AVALOS SERRANO Veronica Nathali  \n",
       "34                         AYRE Marina  \n",
       "35                   BACIGALUPPI Marco  \n",
       "36                   BACINO Guido Luis  \n",
       "37                        BADIA Javier  \n",
       "38            BALAZOTE OLIVER Agustina  \n",
       "39                   BANCHERO Santiago  \n",
       "40             BARABAS Federico Martin  \n",
       "41        BARALDO VICTORICA Luis Mario  \n",
       "42                      BARLARI Martín  \n",
       "43           BARONCINI Carla Antonella  \n",
       "44             BARRADAS José Sebastián  \n",
       "45  BARRERA LEMARCHAND Federico Ulises  \n",
       "46             BARRIONUEVO Matías Raúl  \n",
       "47                     BATTINI Leandro  \n",
       "48            BAYARDO SPADAFORA Julian  \n",
       "49                      BAYLE Federico  \n",
       "50                      BAYLE Federico  \n",
       "51              BECERRA Marcos Gabriel  \n",
       "52            BELDORATI German Gabriel  "
      ]
     },
     "execution_count": 11,
     "metadata": {},
     "output_type": "execute_result"
    }
   ],
   "source": [
    "l[0]"
   ]
  },
  {
   "cell_type": "markdown",
   "metadata": {},
   "source": [
    "## Creo un df general con todos los datos"
   ]
  },
  {
   "cell_type": "code",
   "execution_count": 59,
   "metadata": {},
   "outputs": [],
   "source": [
    "df = pd.DataFrame(columns=['TITULO', 'Apellidos y nombres'])"
   ]
  },
  {
   "cell_type": "code",
   "execution_count": 60,
   "metadata": {},
   "outputs": [],
   "source": [
    "df = pd.concat(l)"
   ]
  },
  {
   "cell_type": "code",
   "execution_count": 61,
   "metadata": {
    "scrolled": true
   },
   "outputs": [
    {
     "data": {
      "text/html": [
       "<div>\n",
       "<style scoped>\n",
       "    .dataframe tbody tr th:only-of-type {\n",
       "        vertical-align: middle;\n",
       "    }\n",
       "\n",
       "    .dataframe tbody tr th {\n",
       "        vertical-align: top;\n",
       "    }\n",
       "\n",
       "    .dataframe thead th {\n",
       "        text-align: right;\n",
       "    }\n",
       "</style>\n",
       "<table border=\"1\" class=\"dataframe\">\n",
       "  <thead>\n",
       "    <tr style=\"text-align: right;\">\n",
       "      <th></th>\n",
       "      <th>TITULO</th>\n",
       "      <th>Apellidos y nombres</th>\n",
       "    </tr>\n",
       "  </thead>\n",
       "  <tbody>\n",
       "    <tr>\n",
       "      <th>0</th>\n",
       "      <td>Profesora Ens.Med.y Sup.Biología</td>\n",
       "      <td>ABALDE Lis Yazmín</td>\n",
       "    </tr>\n",
       "    <tr>\n",
       "      <th>1</th>\n",
       "      <td>Ldo. Cs.Computación</td>\n",
       "      <td>ABOY SOLANES Santiago</td>\n",
       "    </tr>\n",
       "    <tr>\n",
       "      <th>2</th>\n",
       "      <td>Ldo. Cs.Físicas</td>\n",
       "      <td>ABREVAYA Germán Ezequiel</td>\n",
       "    </tr>\n",
       "    <tr>\n",
       "      <th>3</th>\n",
       "      <td>Lda. Cs.Matemáticas</td>\n",
       "      <td>ACCOMAZZO SCOTTI Natalia Celeste</td>\n",
       "    </tr>\n",
       "    <tr>\n",
       "      <th>4</th>\n",
       "      <td>Lda. Cs.Geológicas</td>\n",
       "      <td>ACEVEDO Eliana Belén</td>\n",
       "    </tr>\n",
       "  </tbody>\n",
       "</table>\n",
       "</div>"
      ],
      "text/plain": [
       "                             TITULO               Apellidos y nombres\n",
       "0  Profesora Ens.Med.y Sup.Biología                 ABALDE Lis Yazmín\n",
       "1               Ldo. Cs.Computación             ABOY SOLANES Santiago\n",
       "2                   Ldo. Cs.Físicas          ABREVAYA Germán Ezequiel\n",
       "3               Lda. Cs.Matemáticas  ACCOMAZZO SCOTTI Natalia Celeste\n",
       "4                Lda. Cs.Geológicas              ACEVEDO Eliana Belén"
      ]
     },
     "execution_count": 61,
     "metadata": {},
     "output_type": "execute_result"
    }
   ],
   "source": [
    "df.head()"
   ]
  },
  {
   "cell_type": "code",
   "execution_count": 62,
   "metadata": {},
   "outputs": [
    {
     "data": {
      "text/plain": [
       "667"
      ]
     },
     "execution_count": 62,
     "metadata": {},
     "output_type": "execute_result"
    }
   ],
   "source": [
    "len(df)"
   ]
  },
  {
   "cell_type": "markdown",
   "metadata": {},
   "source": [
    "## Agrego las carreras"
   ]
  },
  {
   "cell_type": "code",
   "execution_count": 128,
   "metadata": {
    "scrolled": true
   },
   "outputs": [
    {
     "data": {
      "text/plain": [
       "['Analista Universitaria de Computación',\n",
       " 'Analista Universitario de Computación',\n",
       " 'Asistente de Investigación en Física',\n",
       " 'Bachiller Universitaria Cs.Atmósfera',\n",
       " 'Bachiller Universitario Cs.Atmósfera',\n",
       " 'Dr. UBA(Cs.Atmósfera y los Océanos)',\n",
       " 'Dr. UBA(Cs.Biológicas)',\n",
       " 'Dr. UBA(Cs.Computación)',\n",
       " 'Dr. UBA(Cs.Físicas)',\n",
       " 'Dr. UBA(Cs.Geológicas)',\n",
       " 'Dr. UBA(Cs.Matemáticas)',\n",
       " 'Dr. UBA(Cs.Químicas)',\n",
       " 'Dr. UBA(Inst.de Inv.Bioquímicas)',\n",
       " 'Dr. UBA(Qca.Inorgánica,Qca.Analítica y Qca.Física)',\n",
       " 'Dr. UBA(Química Biológica)',\n",
       " 'Dr. UBA(Química Industrial)',\n",
       " 'Dr. UBA(Química Orgánica)',\n",
       " 'Dra. UBA(Cs.Atmósfera y los Océanos)',\n",
       " 'Dra. UBA(Cs.Biológicas)',\n",
       " 'Dra. UBA(Cs.Físicas)',\n",
       " 'Dra. UBA(Cs.Geológicas)',\n",
       " 'Dra. UBA(Cs.Matemáticas)',\n",
       " 'Dra. UBA(Inst.de Inv.Bioquímicas)',\n",
       " 'Dra. UBA(Qca.Inorgánica,Qca.Analítica y Qca.Física)',\n",
       " 'Dra. UBA(Química Biológica)',\n",
       " 'Dra. UBA(Química Industrial)',\n",
       " 'Dra. UBA(Química Orgánica)',\n",
       " 'Esp. en Biotecnología Industrial',\n",
       " 'Esp. en Bromatología y Tecnología de Alimentos',\n",
       " 'Esp. en Comunicación Pública de la Ciencia y la Tecnología',\n",
       " 'Esp. en Conservación de la Biodiversidad',\n",
       " 'Esp. en Estadística',\n",
       " 'Esp. en Estadística para Cs. de la Salud',\n",
       " 'Esp. en Exp.de Datos y Desc.de Conocimiento',\n",
       " 'Esp. en Higiene y Seguridad en el Trabajo',\n",
       " 'Esp. en Química y Ambiente',\n",
       " 'Esp. en Seguridad e Higiene Ámbito Laboral',\n",
       " 'Esp. en estadística para Cs. De la Salud',\n",
       " 'Lda. Ciencia y Tecnología de Alimentos',\n",
       " 'Lda. Cs.Atmósfera',\n",
       " 'Lda. Cs.Biológicas',\n",
       " 'Lda. Cs.Computación',\n",
       " 'Lda. Cs.Físicas',\n",
       " 'Lda. Cs.Geológicas',\n",
       " 'Lda. Cs.Matemáticas',\n",
       " 'Lda. Cs.Químicas',\n",
       " 'Ldo. Ciencia y Tecnología de Alimentos',\n",
       " 'Ldo. Cs.Atmósfera',\n",
       " 'Ldo. Cs.Biológicas',\n",
       " 'Ldo. Cs.Computación',\n",
       " 'Ldo. Cs.Físicas',\n",
       " 'Ldo. Cs.Geológicas',\n",
       " 'Ldo. Cs.Matemáticas',\n",
       " 'Ldo. Cs.Matemáticas (CORREGIDO)',\n",
       " 'Ldo. Cs.Químicas',\n",
       " 'Ldo. Paleontología',\n",
       " 'Magister UBA en Bromatología y Tecnología de la\\rIndustrialización de los Alimentos',\n",
       " 'Magister UBA en Ciencias Ambientales',\n",
       " 'Magister UBA en Exp.de Datos y Desc.de Conocimiento',\n",
       " 'Magister UBA en Física Médica',\n",
       " 'Magister UBA en Meteorología Agrícola',\n",
       " 'Profesor Ens.Med.y Sup.Biología',\n",
       " 'Profesor Ens.Med.y Sup.Física',\n",
       " 'Profesor Ens.Med.y Sup.Matemática',\n",
       " 'Profesor Ens.Med.y Sup.Química',\n",
       " 'Profesora ENS.Med.y Sup.Biología',\n",
       " 'Profesora Ens.Med.y Sup.Biología',\n",
       " 'Profesora Ens.Med.y Sup.Física',\n",
       " 'Profesora Ens.Med.y Sup.Química',\n",
       " 'Profesora ens.Med.y Sup.biología',\n",
       " 'Técnico en Meteorología Sinóptica']"
      ]
     },
     "execution_count": 128,
     "metadata": {},
     "output_type": "execute_result"
    }
   ],
   "source": [
    "titulo_unico = sorted(df['TITULO'].drop_duplicates().values.tolist())\n",
    "titulo_unico"
   ]
  },
  {
   "cell_type": "code",
   "execution_count": 105,
   "metadata": {
    "scrolled": true
   },
   "outputs": [
    {
     "data": {
      "text/plain": [
       "['Analista',\n",
       " 'Asistente',\n",
       " 'Bachiller',\n",
       " 'Dr.',\n",
       " 'Dra.',\n",
       " 'Esp.',\n",
       " 'Lda.',\n",
       " 'Ldo.',\n",
       " 'Magister',\n",
       " 'Profesor',\n",
       " 'Profesora',\n",
       " 'Técnico']"
      ]
     },
     "execution_count": 105,
     "metadata": {},
     "output_type": "execute_result"
    }
   ],
   "source": [
    "find_titulo = sorted(list(set([re.findall(r\"([^\\s]+)\",i)[0] for i in titulo_unico])))\n",
    "find_titulo"
   ]
  },
  {
   "cell_type": "code",
   "execution_count": 121,
   "metadata": {},
   "outputs": [],
   "source": [
    "dic_replace = {\n",
    "    'Analista' : 'Analisis',\n",
    "    'Asistente' : 'Asistencia',\n",
    "    'Bachiller' : 'Bachillerato',\n",
    "    'Dr.' : 'Doctorado',\n",
    "    'Dra.' : 'Doctorado',    \n",
    "    'Esp.' : 'Especialista',\n",
    "    'Ldo.' : 'Licenciatura en',    \n",
    "    'Lda.' : 'Licenciatura en', \n",
    "    'Magister' : 'Magisterio',\n",
    "    'Profesor' : 'Profesorado en',\n",
    "    'Profesora' : 'Profesorado en',  \n",
    "    'Técnico': 'Tecnicatura'\n",
    "}"
   ]
  },
  {
   "cell_type": "code",
   "execution_count": 126,
   "metadata": {},
   "outputs": [],
   "source": [
    "df['carrera'] = df.TITULO.apply(lambda x: x.replace(re.findall(r\"([^\\s]+)\",x)[0], dic_replace[re.findall(r\"([^\\s]+)\",x)[0]]))"
   ]
  },
  {
   "cell_type": "code",
   "execution_count": 127,
   "metadata": {
    "scrolled": true
   },
   "outputs": [
    {
     "data": {
      "text/html": [
       "<div>\n",
       "<style scoped>\n",
       "    .dataframe tbody tr th:only-of-type {\n",
       "        vertical-align: middle;\n",
       "    }\n",
       "\n",
       "    .dataframe tbody tr th {\n",
       "        vertical-align: top;\n",
       "    }\n",
       "\n",
       "    .dataframe thead th {\n",
       "        text-align: right;\n",
       "    }\n",
       "</style>\n",
       "<table border=\"1\" class=\"dataframe\">\n",
       "  <thead>\n",
       "    <tr style=\"text-align: right;\">\n",
       "      <th></th>\n",
       "      <th>TITULO</th>\n",
       "      <th>Apellidos y nombres</th>\n",
       "      <th>carrera</th>\n",
       "    </tr>\n",
       "  </thead>\n",
       "  <tbody>\n",
       "    <tr>\n",
       "      <th>0</th>\n",
       "      <td>Profesora Ens.Med.y Sup.Biología</td>\n",
       "      <td>ABALDE Lis Yazmín</td>\n",
       "      <td>Profesorado en Ens.Med.y Sup.Biología</td>\n",
       "    </tr>\n",
       "    <tr>\n",
       "      <th>1</th>\n",
       "      <td>Ldo. Cs.Computación</td>\n",
       "      <td>ABOY SOLANES Santiago</td>\n",
       "      <td>Licenciatura en Cs.Computación</td>\n",
       "    </tr>\n",
       "    <tr>\n",
       "      <th>2</th>\n",
       "      <td>Ldo. Cs.Físicas</td>\n",
       "      <td>ABREVAYA Germán Ezequiel</td>\n",
       "      <td>Licenciatura en Cs.Físicas</td>\n",
       "    </tr>\n",
       "    <tr>\n",
       "      <th>3</th>\n",
       "      <td>Lda. Cs.Matemáticas</td>\n",
       "      <td>ACCOMAZZO SCOTTI Natalia Celeste</td>\n",
       "      <td>Licenciatura en Cs.Matemáticas</td>\n",
       "    </tr>\n",
       "    <tr>\n",
       "      <th>4</th>\n",
       "      <td>Lda. Cs.Geológicas</td>\n",
       "      <td>ACEVEDO Eliana Belén</td>\n",
       "      <td>Licenciatura en Cs.Geológicas</td>\n",
       "    </tr>\n",
       "    <tr>\n",
       "      <th>...</th>\n",
       "      <td>...</td>\n",
       "      <td>...</td>\n",
       "      <td>...</td>\n",
       "    </tr>\n",
       "    <tr>\n",
       "      <th>30</th>\n",
       "      <td>Bachiller Universitario Cs.Atmósfera</td>\n",
       "      <td>ZEITUNE Martin Ezequiel</td>\n",
       "      <td>Bachillerato Universitario Cs.Atmósfera</td>\n",
       "    </tr>\n",
       "    <tr>\n",
       "      <th>31</th>\n",
       "      <td>Ldo. Cs.Matemáticas</td>\n",
       "      <td>ZUCCOTTI Juan Rodrigo</td>\n",
       "      <td>Licenciatura en Cs.Matemáticas</td>\n",
       "    </tr>\n",
       "    <tr>\n",
       "      <th>32</th>\n",
       "      <td>Lda. Cs.Químicas</td>\n",
       "      <td>ZUPAN Ana Luz</td>\n",
       "      <td>Licenciatura en Cs.Químicas</td>\n",
       "    </tr>\n",
       "    <tr>\n",
       "      <th>33</th>\n",
       "      <td>Ldo. Cs.Computación</td>\n",
       "      <td>ZYLBER Ariel Ricardo</td>\n",
       "      <td>Licenciatura en Cs.Computación</td>\n",
       "    </tr>\n",
       "    <tr>\n",
       "      <th>34</th>\n",
       "      <td>Dra. UBA(Inst.de Inv.Bioquímicas)</td>\n",
       "      <td>ZYLBERMAN Vanesa</td>\n",
       "      <td>Doctorado UBA(Inst.de Inv.Bioquímicas)</td>\n",
       "    </tr>\n",
       "  </tbody>\n",
       "</table>\n",
       "<p>667 rows × 3 columns</p>\n",
       "</div>"
      ],
      "text/plain": [
       "                                  TITULO               Apellidos y nombres  \\\n",
       "0       Profesora Ens.Med.y Sup.Biología                 ABALDE Lis Yazmín   \n",
       "1                    Ldo. Cs.Computación             ABOY SOLANES Santiago   \n",
       "2                        Ldo. Cs.Físicas          ABREVAYA Germán Ezequiel   \n",
       "3                    Lda. Cs.Matemáticas  ACCOMAZZO SCOTTI Natalia Celeste   \n",
       "4                     Lda. Cs.Geológicas              ACEVEDO Eliana Belén   \n",
       "..                                   ...                               ...   \n",
       "30  Bachiller Universitario Cs.Atmósfera           ZEITUNE Martin Ezequiel   \n",
       "31                   Ldo. Cs.Matemáticas             ZUCCOTTI Juan Rodrigo   \n",
       "32                      Lda. Cs.Químicas                     ZUPAN Ana Luz   \n",
       "33                   Ldo. Cs.Computación              ZYLBER Ariel Ricardo   \n",
       "34     Dra. UBA(Inst.de Inv.Bioquímicas)                  ZYLBERMAN Vanesa   \n",
       "\n",
       "                                    carrera  \n",
       "0     Profesorado en Ens.Med.y Sup.Biología  \n",
       "1            Licenciatura en Cs.Computación  \n",
       "2                Licenciatura en Cs.Físicas  \n",
       "3            Licenciatura en Cs.Matemáticas  \n",
       "4             Licenciatura en Cs.Geológicas  \n",
       "..                                      ...  \n",
       "30  Bachillerato Universitario Cs.Atmósfera  \n",
       "31           Licenciatura en Cs.Matemáticas  \n",
       "32              Licenciatura en Cs.Químicas  \n",
       "33           Licenciatura en Cs.Computación  \n",
       "34   Doctorado UBA(Inst.de Inv.Bioquímicas)  \n",
       "\n",
       "[667 rows x 3 columns]"
      ]
     },
     "execution_count": 127,
     "metadata": {},
     "output_type": "execute_result"
    }
   ],
   "source": [
    "df"
   ]
  },
  {
   "cell_type": "markdown",
   "metadata": {},
   "source": [
    "## Genderizo"
   ]
  },
  {
   "cell_type": "code",
   "execution_count": 135,
   "metadata": {},
   "outputs": [],
   "source": [
    "name =  'ACCOMAZZO SCOTTI Natalia Celeste'"
   ]
  },
  {
   "cell_type": "code",
   "execution_count": 140,
   "metadata": {},
   "outputs": [
    {
     "data": {
      "text/plain": [
       "['ACCOMAZZO', 'SCOTTI', 'Natalia', 'Celeste']"
      ]
     },
     "execution_count": 140,
     "metadata": {},
     "output_type": "execute_result"
    }
   ],
   "source": [
    "n = name.split()\n",
    "n"
   ]
  },
  {
   "cell_type": "code",
   "execution_count": 218,
   "metadata": {},
   "outputs": [
    {
     "data": {
      "text/plain": [
       "'Natalia'"
      ]
     },
     "execution_count": 218,
     "metadata": {},
     "output_type": "execute_result"
    }
   ],
   "source": [
    "[word for word in n if not word.islower() and not word.isupper()][0]"
   ]
  },
  {
   "cell_type": "code",
   "execution_count": 215,
   "metadata": {},
   "outputs": [
    {
     "data": {
      "text/plain": [
       "['Natalia', 'Celeste']"
      ]
     },
     "execution_count": 215,
     "metadata": {},
     "output_type": "execute_result"
    }
   ],
   "source": [
    "[word for word in n if not word.islower() and not word.isupper()]"
   ]
  },
  {
   "cell_type": "code",
   "execution_count": 159,
   "metadata": {},
   "outputs": [
    {
     "ename": "NameError",
     "evalue": "name 'x' is not defined",
     "output_type": "error",
     "traceback": [
      "\u001b[0;31m---------------------------------------------------------------------------\u001b[0m",
      "\u001b[0;31mNameError\u001b[0m                                 Traceback (most recent call last)",
      "\u001b[0;32m<ipython-input-159-77487cfb5a5b>\u001b[0m in \u001b[0;36m<module>\u001b[0;34m\u001b[0m\n\u001b[0;32m----> 1\u001b[0;31m \u001b[0mre\u001b[0m\u001b[0;34m.\u001b[0m\u001b[0mfindall\u001b[0m\u001b[0;34m(\u001b[0m\u001b[0;34mr\"([A-Z][^A-Z][^\\s]+)\"\u001b[0m\u001b[0;34m,\u001b[0m\u001b[0mx\u001b[0m\u001b[0;34m)\u001b[0m\u001b[0;34m[\u001b[0m\u001b[0;36m1\u001b[0m\u001b[0;34m]\u001b[0m\u001b[0;34m\u001b[0m\u001b[0;34m\u001b[0m\u001b[0m\n\u001b[0m",
      "\u001b[0;31mNameError\u001b[0m: name 'x' is not defined"
     ]
    }
   ],
   "source": [
    "# re.findall(r\"([A-Z][^A-Z][^\\s]+)\",)[1]"
   ]
  },
  {
   "cell_type": "code",
   "execution_count": 212,
   "metadata": {},
   "outputs": [
    {
     "ename": "NameError",
     "evalue": "name 'Ariel' is not defined",
     "output_type": "error",
     "traceback": [
      "\u001b[0;31m---------------------------------------------------------------------------\u001b[0m",
      "\u001b[0;31mNameError\u001b[0m                                 Traceback (most recent call last)",
      "\u001b[0;32m<ipython-input-212-00c0c7aef078>\u001b[0m in \u001b[0;36m<module>\u001b[0;34m\u001b[0m\n\u001b[0;32m----> 1\u001b[0;31m \u001b[0;34m[\u001b[0m\u001b[0mAriel\u001b[0m\u001b[0;34m,\u001b[0m \u001b[0mRicardo\u001b[0m\u001b[0;34m]\u001b[0m\u001b[0;34m[\u001b[0m\u001b[0;36m0\u001b[0m\u001b[0;34m]\u001b[0m\u001b[0;34m\u001b[0m\u001b[0;34m\u001b[0m\u001b[0m\n\u001b[0m",
      "\u001b[0;31mNameError\u001b[0m: name 'Ariel' is not defined"
     ]
    }
   ],
   "source": [
    "[Ariel, Ricardo][0]"
   ]
  },
  {
   "cell_type": "code",
   "execution_count": 330,
   "metadata": {},
   "outputs": [
    {
     "data": {
      "text/plain": [
       "0         Lis\n",
       "1    Santiago\n",
       "2      Germán\n",
       "3     Natalia\n",
       "4      Eliana\n",
       "Name: name, dtype: object"
      ]
     },
     "execution_count": 330,
     "metadata": {},
     "output_type": "execute_result"
    }
   ],
   "source": [
    "df3.name.map(lambda x: x[0])"
   ]
  },
  {
   "cell_type": "code",
   "execution_count": 359,
   "metadata": {},
   "outputs": [],
   "source": [
    "df3['name'] = df3[\"surname_name\"].apply(lambda x: [word for word in x.split() if not word.islower() and not word.isupper()][0])"
   ]
  },
  {
   "cell_type": "code",
   "execution_count": 360,
   "metadata": {},
   "outputs": [
    {
     "data": {
      "text/html": [
       "<div>\n",
       "<style scoped>\n",
       "    .dataframe tbody tr th:only-of-type {\n",
       "        vertical-align: middle;\n",
       "    }\n",
       "\n",
       "    .dataframe tbody tr th {\n",
       "        vertical-align: top;\n",
       "    }\n",
       "\n",
       "    .dataframe thead th {\n",
       "        text-align: right;\n",
       "    }\n",
       "</style>\n",
       "<table border=\"1\" class=\"dataframe\">\n",
       "  <thead>\n",
       "    <tr style=\"text-align: right;\">\n",
       "      <th></th>\n",
       "      <th>surname_name</th>\n",
       "      <th>name</th>\n",
       "      <th>name1</th>\n",
       "    </tr>\n",
       "  </thead>\n",
       "  <tbody>\n",
       "    <tr>\n",
       "      <th>0</th>\n",
       "      <td>ABALDE Lis Yazmín</td>\n",
       "      <td>Lis</td>\n",
       "      <td>Lis</td>\n",
       "    </tr>\n",
       "    <tr>\n",
       "      <th>1</th>\n",
       "      <td>ABOY SOLANES Santiago</td>\n",
       "      <td>Santiago</td>\n",
       "      <td>Santiago</td>\n",
       "    </tr>\n",
       "    <tr>\n",
       "      <th>2</th>\n",
       "      <td>ABREVAYA Germán Ezequiel</td>\n",
       "      <td>Germán</td>\n",
       "      <td>Germán</td>\n",
       "    </tr>\n",
       "    <tr>\n",
       "      <th>3</th>\n",
       "      <td>ACCOMAZZO SCOTTI Natalia Celeste</td>\n",
       "      <td>Natalia</td>\n",
       "      <td>Natalia</td>\n",
       "    </tr>\n",
       "    <tr>\n",
       "      <th>4</th>\n",
       "      <td>ACEVEDO Eliana Belén</td>\n",
       "      <td>Eliana</td>\n",
       "      <td>Eliana</td>\n",
       "    </tr>\n",
       "  </tbody>\n",
       "</table>\n",
       "</div>"
      ],
      "text/plain": [
       "                       surname_name      name     name1\n",
       "0                 ABALDE Lis Yazmín       Lis       Lis\n",
       "1             ABOY SOLANES Santiago  Santiago  Santiago\n",
       "2          ABREVAYA Germán Ezequiel    Germán    Germán\n",
       "3  ACCOMAZZO SCOTTI Natalia Celeste   Natalia   Natalia\n",
       "4              ACEVEDO Eliana Belén    Eliana    Eliana"
      ]
     },
     "execution_count": 360,
     "metadata": {},
     "output_type": "execute_result"
    }
   ],
   "source": [
    "df3"
   ]
  },
  {
   "cell_type": "code",
   "execution_count": null,
   "metadata": {},
   "outputs": [],
   "source": [
    "[word for word in x.split() if not word.islower() and not word.isupper()]"
   ]
  },
  {
   "cell_type": "code",
   "execution_count": 199,
   "metadata": {
    "scrolled": true
   },
   "outputs": [],
   "source": [
    "df['name'] = df[\"Apellidos y nombres\"].apply(lambda x: re.findall(r\"([A-Z][^A-Z Ñ]+)\",x))"
   ]
  },
  {
   "cell_type": "code",
   "execution_count": 254,
   "metadata": {},
   "outputs": [],
   "source": [
    "df['name'] = df[\"Apellidos y nombres\"].apply(lambda x: \" \".join([word for word in x.split() if not word.islower() and not word.isupper()]))"
   ]
  },
  {
   "cell_type": "code",
   "execution_count": 337,
   "metadata": {},
   "outputs": [
    {
     "data": {
      "text/plain": [
       "0          [Lis, Yazmin]\n",
       "1             [Santiago]\n",
       "2     [German, Ezequiel]\n",
       "3     [Natalia, Celeste]\n",
       "4        [Eliana, Belen]\n",
       "             ...        \n",
       "30    [Martin, Ezequiel]\n",
       "31       [Juan, Rodrigo]\n",
       "32            [Ana, Luz]\n",
       "33      [Ariel, Ricardo]\n",
       "34              [Vanesa]\n",
       "Name: Apellidos y nombres, Length: 667, dtype: object"
      ]
     },
     "execution_count": 337,
     "metadata": {},
     "output_type": "execute_result"
    }
   ],
   "source": [
    "df[\"Apellidos y nombres\"].apply(lambda x: [_deaccent(word) for word in x.split() if not word.islower() and not word.isupper()])"
   ]
  },
  {
   "cell_type": "code",
   "execution_count": 339,
   "metadata": {},
   "outputs": [],
   "source": [
    "df['names'] = df[\"Apellidos y nombres\"].apply(lambda x: [_deaccent(word) for word in x.split() if not word.islower() and not word.isupper()])"
   ]
  },
  {
   "cell_type": "code",
   "execution_count": 342,
   "metadata": {},
   "outputs": [
    {
     "data": {
      "text/plain": [
       "0         Lis\n",
       "1    Santiago\n",
       "2      Germán\n",
       "3     Natalia\n",
       "4      Eliana\n",
       "Name: name, dtype: object"
      ]
     },
     "execution_count": 342,
     "metadata": {},
     "output_type": "execute_result"
    }
   ],
   "source": [
    "df3.name.map(lambda x: x[0])"
   ]
  },
  {
   "cell_type": "code",
   "execution_count": 363,
   "metadata": {},
   "outputs": [
    {
     "data": {
      "text/plain": [
       "0          [Lis, Yazmin]\n",
       "1             [Santiago]\n",
       "2     [German, Ezequiel]\n",
       "3     [Natalia, Celeste]\n",
       "4        [Eliana, Belen]\n",
       "             ...        \n",
       "30    [Martin, Ezequiel]\n",
       "31       [Juan, Rodrigo]\n",
       "32            [Ana, Luz]\n",
       "33      [Ariel, Ricardo]\n",
       "34              [Vanesa]\n",
       "Name: names, Length: 667, dtype: object"
      ]
     },
     "execution_count": 363,
     "metadata": {},
     "output_type": "execute_result"
    }
   ],
   "source": [
    "df.names"
   ]
  },
  {
   "cell_type": "code",
   "execution_count": 343,
   "metadata": {
    "scrolled": true
   },
   "outputs": [
    {
     "ename": "IndexError",
     "evalue": "list index out of range",
     "output_type": "error",
     "traceback": [
      "\u001b[0;31m---------------------------------------------------------------------------\u001b[0m",
      "\u001b[0;31mIndexError\u001b[0m                                Traceback (most recent call last)",
      "\u001b[0;32m<ipython-input-343-5b1d4ea3021c>\u001b[0m in \u001b[0;36m<module>\u001b[0;34m\u001b[0m\n\u001b[0;32m----> 1\u001b[0;31m \u001b[0mdf\u001b[0m\u001b[0;34m.\u001b[0m\u001b[0mnames\u001b[0m\u001b[0;34m.\u001b[0m\u001b[0mmap\u001b[0m\u001b[0;34m(\u001b[0m\u001b[0;32mlambda\u001b[0m \u001b[0mx\u001b[0m\u001b[0;34m:\u001b[0m \u001b[0mx\u001b[0m\u001b[0;34m[\u001b[0m\u001b[0;36m0\u001b[0m\u001b[0;34m]\u001b[0m\u001b[0;34m)\u001b[0m\u001b[0;34m\u001b[0m\u001b[0;34m\u001b[0m\u001b[0m\n\u001b[0m",
      "\u001b[0;32m~/.local/lib/python3.6/site-packages/pandas/core/series.py\u001b[0m in \u001b[0;36mmap\u001b[0;34m(self, arg, na_action)\u001b[0m\n\u001b[1;32m   3628\u001b[0m         \u001b[0mdtype\u001b[0m\u001b[0;34m:\u001b[0m \u001b[0mobject\u001b[0m\u001b[0;34m\u001b[0m\u001b[0;34m\u001b[0m\u001b[0m\n\u001b[1;32m   3629\u001b[0m         \"\"\"\n\u001b[0;32m-> 3630\u001b[0;31m         \u001b[0mnew_values\u001b[0m \u001b[0;34m=\u001b[0m \u001b[0msuper\u001b[0m\u001b[0;34m(\u001b[0m\u001b[0;34m)\u001b[0m\u001b[0;34m.\u001b[0m\u001b[0m_map_values\u001b[0m\u001b[0;34m(\u001b[0m\u001b[0marg\u001b[0m\u001b[0;34m,\u001b[0m \u001b[0mna_action\u001b[0m\u001b[0;34m=\u001b[0m\u001b[0mna_action\u001b[0m\u001b[0;34m)\u001b[0m\u001b[0;34m\u001b[0m\u001b[0;34m\u001b[0m\u001b[0m\n\u001b[0m\u001b[1;32m   3631\u001b[0m         \u001b[0;32mreturn\u001b[0m \u001b[0mself\u001b[0m\u001b[0;34m.\u001b[0m\u001b[0m_constructor\u001b[0m\u001b[0;34m(\u001b[0m\u001b[0mnew_values\u001b[0m\u001b[0;34m,\u001b[0m \u001b[0mindex\u001b[0m\u001b[0;34m=\u001b[0m\u001b[0mself\u001b[0m\u001b[0;34m.\u001b[0m\u001b[0mindex\u001b[0m\u001b[0;34m)\u001b[0m\u001b[0;34m.\u001b[0m\u001b[0m__finalize__\u001b[0m\u001b[0;34m(\u001b[0m\u001b[0mself\u001b[0m\u001b[0;34m)\u001b[0m\u001b[0;34m\u001b[0m\u001b[0;34m\u001b[0m\u001b[0m\n\u001b[1;32m   3632\u001b[0m \u001b[0;34m\u001b[0m\u001b[0m\n",
      "\u001b[0;32m~/.local/lib/python3.6/site-packages/pandas/core/base.py\u001b[0m in \u001b[0;36m_map_values\u001b[0;34m(self, mapper, na_action)\u001b[0m\n\u001b[1;32m   1152\u001b[0m \u001b[0;34m\u001b[0m\u001b[0m\n\u001b[1;32m   1153\u001b[0m         \u001b[0;31m# mapper is a function\u001b[0m\u001b[0;34m\u001b[0m\u001b[0;34m\u001b[0m\u001b[0;34m\u001b[0m\u001b[0m\n\u001b[0;32m-> 1154\u001b[0;31m         \u001b[0mnew_values\u001b[0m \u001b[0;34m=\u001b[0m \u001b[0mmap_f\u001b[0m\u001b[0;34m(\u001b[0m\u001b[0mvalues\u001b[0m\u001b[0;34m,\u001b[0m \u001b[0mmapper\u001b[0m\u001b[0;34m)\u001b[0m\u001b[0;34m\u001b[0m\u001b[0;34m\u001b[0m\u001b[0m\n\u001b[0m\u001b[1;32m   1155\u001b[0m \u001b[0;34m\u001b[0m\u001b[0m\n\u001b[1;32m   1156\u001b[0m         \u001b[0;32mreturn\u001b[0m \u001b[0mnew_values\u001b[0m\u001b[0;34m\u001b[0m\u001b[0;34m\u001b[0m\u001b[0m\n",
      "\u001b[0;32mpandas/_libs/lib.pyx\u001b[0m in \u001b[0;36mpandas._libs.lib.map_infer\u001b[0;34m()\u001b[0m\n",
      "\u001b[0;32m<ipython-input-343-5b1d4ea3021c>\u001b[0m in \u001b[0;36m<lambda>\u001b[0;34m(x)\u001b[0m\n\u001b[0;32m----> 1\u001b[0;31m \u001b[0mdf\u001b[0m\u001b[0;34m.\u001b[0m\u001b[0mnames\u001b[0m\u001b[0;34m.\u001b[0m\u001b[0mmap\u001b[0m\u001b[0;34m(\u001b[0m\u001b[0;32mlambda\u001b[0m \u001b[0mx\u001b[0m\u001b[0;34m:\u001b[0m \u001b[0mx\u001b[0m\u001b[0;34m[\u001b[0m\u001b[0;36m0\u001b[0m\u001b[0;34m]\u001b[0m\u001b[0;34m)\u001b[0m\u001b[0;34m\u001b[0m\u001b[0;34m\u001b[0m\u001b[0m\n\u001b[0m",
      "\u001b[0;31mIndexError\u001b[0m: list index out of range"
     ]
    }
   ],
   "source": [
    "df.names.map(lambda x: x[0])"
   ]
  },
  {
   "cell_type": "code",
   "execution_count": 334,
   "metadata": {},
   "outputs": [
    {
     "data": {
      "text/html": [
       "<div>\n",
       "<style scoped>\n",
       "    .dataframe tbody tr th:only-of-type {\n",
       "        vertical-align: middle;\n",
       "    }\n",
       "\n",
       "    .dataframe tbody tr th {\n",
       "        vertical-align: top;\n",
       "    }\n",
       "\n",
       "    .dataframe thead th {\n",
       "        text-align: right;\n",
       "    }\n",
       "</style>\n",
       "<table border=\"1\" class=\"dataframe\">\n",
       "  <thead>\n",
       "    <tr style=\"text-align: right;\">\n",
       "      <th></th>\n",
       "      <th>TITULO</th>\n",
       "      <th>Apellidos y nombres</th>\n",
       "      <th>carrera</th>\n",
       "      <th>name</th>\n",
       "      <th>gender</th>\n",
       "      <th>names</th>\n",
       "    </tr>\n",
       "  </thead>\n",
       "  <tbody>\n",
       "    <tr>\n",
       "      <th>19</th>\n",
       "      <td>Dr. UBA(Cs.Biológicas)</td>\n",
       "      <td>DE SIMONE Gabriel Alejandro</td>\n",
       "      <td>Doctorado UBA(Cs.Biológicas)</td>\n",
       "      <td>[Gabriel, Alejandro]</td>\n",
       "      <td>[male, male]</td>\n",
       "      <td>[Gabriel, Alejandro]</td>\n",
       "    </tr>\n",
       "    <tr>\n",
       "      <th>35</th>\n",
       "      <td>Dr. UBA(Cs.Físicas)</td>\n",
       "      <td>SANCHEZ VIETTO Juan Ignacio</td>\n",
       "      <td>Doctorado UBA(Cs.Físicas)</td>\n",
       "      <td>[Juan, Ignacio]</td>\n",
       "      <td>[male, male]</td>\n",
       "      <td>[Juan, Ignacio]</td>\n",
       "    </tr>\n",
       "    <tr>\n",
       "      <th>45</th>\n",
       "      <td>Profesora Ens.Med.y Sup.Biología</td>\n",
       "      <td>CALVIÑO María Ana</td>\n",
       "      <td>Profesorado en Ens.Med.y Sup.Biología</td>\n",
       "      <td>[Maria, Ana]</td>\n",
       "      <td>[female, female]</td>\n",
       "      <td>[Maria, Ana]</td>\n",
       "    </tr>\n",
       "    <tr>\n",
       "      <th>19</th>\n",
       "      <td>Ldo. Cs.Físicas</td>\n",
       "      <td>KUPERMAN Martin Pablo</td>\n",
       "      <td>Licenciatura en Cs.Físicas</td>\n",
       "      <td>[Martin, Pablo]</td>\n",
       "      <td>[male, male]</td>\n",
       "      <td>[Martin, Pablo]</td>\n",
       "    </tr>\n",
       "    <tr>\n",
       "      <th>43</th>\n",
       "      <td>Dra. UBA(Cs.Biológicas)</td>\n",
       "      <td>MIGUELEZ FERNANDEZ Anabel Maria Mercedes</td>\n",
       "      <td>Doctorado UBA(Cs.Biológicas)</td>\n",
       "      <td>[Anabel, Maria, Mercedes]</td>\n",
       "      <td>[female, female, female]</td>\n",
       "      <td>[Anabel, Maria, Mercedes]</td>\n",
       "    </tr>\n",
       "    <tr>\n",
       "      <th>40</th>\n",
       "      <td>Ldo. Cs.Computación</td>\n",
       "      <td>PANARELLO Bernabé</td>\n",
       "      <td>Licenciatura en Cs.Computación</td>\n",
       "      <td>[Bernabe]</td>\n",
       "      <td>[unknown]</td>\n",
       "      <td>[Bernabe]</td>\n",
       "    </tr>\n",
       "    <tr>\n",
       "      <th>26</th>\n",
       "      <td>Esp. en Biotecnología Industrial</td>\n",
       "      <td>FUNGUEIRO Manuel Facundo</td>\n",
       "      <td>Especialista en Biotecnología Industrial</td>\n",
       "      <td>[Manuel, Facundo]</td>\n",
       "      <td>[male, male]</td>\n",
       "      <td>[Manuel, Facundo]</td>\n",
       "    </tr>\n",
       "    <tr>\n",
       "      <th>24</th>\n",
       "      <td>Dr. UBA(Química Biológica)</td>\n",
       "      <td>FUCHS Julio Silvio</td>\n",
       "      <td>Doctorado UBA(Química Biológica)</td>\n",
       "      <td>[Julio, Silvio]</td>\n",
       "      <td>[male, male]</td>\n",
       "      <td>[Julio, Silvio]</td>\n",
       "    </tr>\n",
       "    <tr>\n",
       "      <th>48</th>\n",
       "      <td>Ldo. Cs.Geológicas</td>\n",
       "      <td>VALDÉS Santiago Pablo</td>\n",
       "      <td>Licenciatura en Cs.Geológicas</td>\n",
       "      <td>[Santiago, Pablo]</td>\n",
       "      <td>[male, male]</td>\n",
       "      <td>[Santiago, Pablo]</td>\n",
       "    </tr>\n",
       "    <tr>\n",
       "      <th>3</th>\n",
       "      <td>Dr. UBA(Cs.Físicas)</td>\n",
       "      <td>VARGA Juan Jose Miguel</td>\n",
       "      <td>Doctorado UBA(Cs.Físicas)</td>\n",
       "      <td>[Juan, Jose, Miguel]</td>\n",
       "      <td>[male, male, male]</td>\n",
       "      <td>[Juan, Jose, Miguel]</td>\n",
       "    </tr>\n",
       "  </tbody>\n",
       "</table>\n",
       "</div>"
      ],
      "text/plain": [
       "                              TITULO  \\\n",
       "19            Dr. UBA(Cs.Biológicas)   \n",
       "35               Dr. UBA(Cs.Físicas)   \n",
       "45  Profesora Ens.Med.y Sup.Biología   \n",
       "19                   Ldo. Cs.Físicas   \n",
       "43           Dra. UBA(Cs.Biológicas)   \n",
       "40               Ldo. Cs.Computación   \n",
       "26  Esp. en Biotecnología Industrial   \n",
       "24        Dr. UBA(Química Biológica)   \n",
       "48                Ldo. Cs.Geológicas   \n",
       "3                Dr. UBA(Cs.Físicas)   \n",
       "\n",
       "                         Apellidos y nombres  \\\n",
       "19               DE SIMONE Gabriel Alejandro   \n",
       "35               SANCHEZ VIETTO Juan Ignacio   \n",
       "45                         CALVIÑO María Ana   \n",
       "19                     KUPERMAN Martin Pablo   \n",
       "43  MIGUELEZ FERNANDEZ Anabel Maria Mercedes   \n",
       "40                         PANARELLO Bernabé   \n",
       "26                  FUNGUEIRO Manuel Facundo   \n",
       "24                        FUCHS Julio Silvio   \n",
       "48                     VALDÉS Santiago Pablo   \n",
       "3                     VARGA Juan Jose Miguel   \n",
       "\n",
       "                                     carrera                       name  \\\n",
       "19              Doctorado UBA(Cs.Biológicas)       [Gabriel, Alejandro]   \n",
       "35                 Doctorado UBA(Cs.Físicas)            [Juan, Ignacio]   \n",
       "45     Profesorado en Ens.Med.y Sup.Biología               [Maria, Ana]   \n",
       "19                Licenciatura en Cs.Físicas            [Martin, Pablo]   \n",
       "43              Doctorado UBA(Cs.Biológicas)  [Anabel, Maria, Mercedes]   \n",
       "40            Licenciatura en Cs.Computación                  [Bernabe]   \n",
       "26  Especialista en Biotecnología Industrial          [Manuel, Facundo]   \n",
       "24          Doctorado UBA(Química Biológica)            [Julio, Silvio]   \n",
       "48             Licenciatura en Cs.Geológicas          [Santiago, Pablo]   \n",
       "3                  Doctorado UBA(Cs.Físicas)       [Juan, Jose, Miguel]   \n",
       "\n",
       "                      gender                      names  \n",
       "19              [male, male]       [Gabriel, Alejandro]  \n",
       "35              [male, male]            [Juan, Ignacio]  \n",
       "45          [female, female]               [Maria, Ana]  \n",
       "19              [male, male]            [Martin, Pablo]  \n",
       "43  [female, female, female]  [Anabel, Maria, Mercedes]  \n",
       "40                 [unknown]                  [Bernabe]  \n",
       "26              [male, male]          [Manuel, Facundo]  \n",
       "24              [male, male]            [Julio, Silvio]  \n",
       "48              [male, male]          [Santiago, Pablo]  \n",
       "3         [male, male, male]       [Juan, Jose, Miguel]  "
      ]
     },
     "execution_count": 334,
     "metadata": {},
     "output_type": "execute_result"
    }
   ],
   "source": [
    "df.sample(10)"
   ]
  },
  {
   "cell_type": "code",
   "execution_count": 133,
   "metadata": {},
   "outputs": [],
   "source": [
    "d = gender.Detector(case_sensitive=False)"
   ]
  },
  {
   "cell_type": "code",
   "execution_count": 292,
   "metadata": {},
   "outputs": [
    {
     "data": {
      "text/plain": [
       "'unknown'"
      ]
     },
     "execution_count": 292,
     "metadata": {},
     "output_type": "execute_result"
    }
   ],
   "source": [
    "d.get_gender(u\"\")"
   ]
  },
  {
   "cell_type": "code",
   "execution_count": 272,
   "metadata": {},
   "outputs": [],
   "source": [
    "df['gender'] = df[\"name\"].apply(lambda x: [d.get_gender(_deaccent(i)) for i in x])"
   ]
  },
  {
   "cell_type": "code",
   "execution_count": 274,
   "metadata": {
    "scrolled": true
   },
   "outputs": [
    {
     "data": {
      "text/html": [
       "<div>\n",
       "<style scoped>\n",
       "    .dataframe tbody tr th:only-of-type {\n",
       "        vertical-align: middle;\n",
       "    }\n",
       "\n",
       "    .dataframe tbody tr th {\n",
       "        vertical-align: top;\n",
       "    }\n",
       "\n",
       "    .dataframe thead th {\n",
       "        text-align: right;\n",
       "    }\n",
       "</style>\n",
       "<table border=\"1\" class=\"dataframe\">\n",
       "  <thead>\n",
       "    <tr style=\"text-align: right;\">\n",
       "      <th></th>\n",
       "      <th>TITULO</th>\n",
       "      <th>Apellidos y nombres</th>\n",
       "      <th>carrera</th>\n",
       "      <th>name</th>\n",
       "      <th>gender</th>\n",
       "    </tr>\n",
       "  </thead>\n",
       "  <tbody>\n",
       "    <tr>\n",
       "      <th>0</th>\n",
       "      <td>Profesora Ens.Med.y Sup.Biología</td>\n",
       "      <td>ABALDE Lis Yazmín</td>\n",
       "      <td>Profesorado en Ens.Med.y Sup.Biología</td>\n",
       "      <td>[Lis, Yazmín]</td>\n",
       "      <td>[female, female]</td>\n",
       "    </tr>\n",
       "    <tr>\n",
       "      <th>1</th>\n",
       "      <td>Ldo. Cs.Computación</td>\n",
       "      <td>ABOY SOLANES Santiago</td>\n",
       "      <td>Licenciatura en Cs.Computación</td>\n",
       "      <td>[Santiago]</td>\n",
       "      <td>[male]</td>\n",
       "    </tr>\n",
       "    <tr>\n",
       "      <th>2</th>\n",
       "      <td>Ldo. Cs.Físicas</td>\n",
       "      <td>ABREVAYA Germán Ezequiel</td>\n",
       "      <td>Licenciatura en Cs.Físicas</td>\n",
       "      <td>[Germán, Ezequiel]</td>\n",
       "      <td>[male, male]</td>\n",
       "    </tr>\n",
       "    <tr>\n",
       "      <th>3</th>\n",
       "      <td>Lda. Cs.Matemáticas</td>\n",
       "      <td>ACCOMAZZO SCOTTI Natalia Celeste</td>\n",
       "      <td>Licenciatura en Cs.Matemáticas</td>\n",
       "      <td>[Natalia, Celeste]</td>\n",
       "      <td>[female, female]</td>\n",
       "    </tr>\n",
       "    <tr>\n",
       "      <th>4</th>\n",
       "      <td>Lda. Cs.Geológicas</td>\n",
       "      <td>ACEVEDO Eliana Belén</td>\n",
       "      <td>Licenciatura en Cs.Geológicas</td>\n",
       "      <td>[Eliana, Belén]</td>\n",
       "      <td>[female, unknown]</td>\n",
       "    </tr>\n",
       "    <tr>\n",
       "      <th>5</th>\n",
       "      <td>Ldo. Cs.Matemáticas</td>\n",
       "      <td>ACRI Emiliano Francisco</td>\n",
       "      <td>Licenciatura en Cs.Matemáticas</td>\n",
       "      <td>[Emiliano, Francisco]</td>\n",
       "      <td>[male, male]</td>\n",
       "    </tr>\n",
       "    <tr>\n",
       "      <th>6</th>\n",
       "      <td>Ldo. Cs.Biológicas</td>\n",
       "      <td>ADOT Francisco</td>\n",
       "      <td>Licenciatura en Cs.Biológicas</td>\n",
       "      <td>[Francisco]</td>\n",
       "      <td>[male]</td>\n",
       "    </tr>\n",
       "    <tr>\n",
       "      <th>7</th>\n",
       "      <td>Lda. Cs.Geológicas</td>\n",
       "      <td>AGOSTINELLI Mercedes Salomé</td>\n",
       "      <td>Licenciatura en Cs.Geológicas</td>\n",
       "      <td>[Mercedes, Salomé]</td>\n",
       "      <td>[female, female]</td>\n",
       "    </tr>\n",
       "    <tr>\n",
       "      <th>8</th>\n",
       "      <td>Ldo. Cs.Biológicas</td>\n",
       "      <td>AGUERREBERRY Emiliano</td>\n",
       "      <td>Licenciatura en Cs.Biológicas</td>\n",
       "      <td>[Emiliano]</td>\n",
       "      <td>[male]</td>\n",
       "    </tr>\n",
       "    <tr>\n",
       "      <th>9</th>\n",
       "      <td>Magister UBA en Meteorología Agrícola</td>\n",
       "      <td>AGUILERA Regina Beatriz</td>\n",
       "      <td>Magisterio UBA en Meteorología Agrícola</td>\n",
       "      <td>[Regina, Beatriz]</td>\n",
       "      <td>[female, female]</td>\n",
       "    </tr>\n",
       "    <tr>\n",
       "      <th>10</th>\n",
       "      <td>Dr. UBA(Cs.Biológicas)</td>\n",
       "      <td>AGUILERA SAMMARITANO Juan Alberto</td>\n",
       "      <td>Doctorado UBA(Cs.Biológicas)</td>\n",
       "      <td>[Juan, Alberto]</td>\n",
       "      <td>[male, male]</td>\n",
       "    </tr>\n",
       "    <tr>\n",
       "      <th>11</th>\n",
       "      <td>Ldo. Cs.Biológicas</td>\n",
       "      <td>AGUIRRE Cristian Daniel</td>\n",
       "      <td>Licenciatura en Cs.Biológicas</td>\n",
       "      <td>[Cristian, Daniel]</td>\n",
       "      <td>[male, male]</td>\n",
       "    </tr>\n",
       "    <tr>\n",
       "      <th>12</th>\n",
       "      <td>Dr. UBA(Cs.Físicas)</td>\n",
       "      <td>ALBERTI Alejo</td>\n",
       "      <td>Doctorado UBA(Cs.Físicas)</td>\n",
       "      <td>[Alejo]</td>\n",
       "      <td>[male]</td>\n",
       "    </tr>\n",
       "    <tr>\n",
       "      <th>13</th>\n",
       "      <td>Profesora Ens.Med.y Sup.Biología</td>\n",
       "      <td>ALBIONI MONTENEGRO Gloria Eva</td>\n",
       "      <td>Profesorado en Ens.Med.y Sup.Biología</td>\n",
       "      <td>[Gloria, Eva]</td>\n",
       "      <td>[female, female]</td>\n",
       "    </tr>\n",
       "    <tr>\n",
       "      <th>14</th>\n",
       "      <td>Lda. Cs.Biológicas</td>\n",
       "      <td>ALFARO  Elisa Raquel</td>\n",
       "      <td>Licenciatura en Cs.Biológicas</td>\n",
       "      <td>[Elisa, Raquel]</td>\n",
       "      <td>[female, female]</td>\n",
       "    </tr>\n",
       "    <tr>\n",
       "      <th>15</th>\n",
       "      <td>Ldo. Cs.Computación</td>\n",
       "      <td>ALFONSO Mauricio</td>\n",
       "      <td>Licenciatura en Cs.Computación</td>\n",
       "      <td>[Mauricio]</td>\n",
       "      <td>[male]</td>\n",
       "    </tr>\n",
       "    <tr>\n",
       "      <th>16</th>\n",
       "      <td>Analista Universitaria de Computación</td>\n",
       "      <td>ALFONSO Mauricio</td>\n",
       "      <td>Analisis Universitaria de Computación</td>\n",
       "      <td>[Mauricio]</td>\n",
       "      <td>[male]</td>\n",
       "    </tr>\n",
       "    <tr>\n",
       "      <th>17</th>\n",
       "      <td>Lda. Cs.Biológicas</td>\n",
       "      <td>ALLEN DOHLE Sharon Ingrid</td>\n",
       "      <td>Licenciatura en Cs.Biológicas</td>\n",
       "      <td>[Sharon, Ingrid]</td>\n",
       "      <td>[female, female]</td>\n",
       "    </tr>\n",
       "    <tr>\n",
       "      <th>18</th>\n",
       "      <td>Dr. UBA(Cs.Físicas)</td>\n",
       "      <td>ALLEN Pablo Guillermo</td>\n",
       "      <td>Doctorado UBA(Cs.Físicas)</td>\n",
       "      <td>[Pablo, Guillermo]</td>\n",
       "      <td>[male, male]</td>\n",
       "    </tr>\n",
       "    <tr>\n",
       "      <th>19</th>\n",
       "      <td>Ldo. Cs.Biológicas</td>\n",
       "      <td>ALONSO Ignacio</td>\n",
       "      <td>Licenciatura en Cs.Biológicas</td>\n",
       "      <td>[Ignacio]</td>\n",
       "      <td>[male]</td>\n",
       "    </tr>\n",
       "  </tbody>\n",
       "</table>\n",
       "</div>"
      ],
      "text/plain": [
       "                                   TITULO                Apellidos y nombres  \\\n",
       "0        Profesora Ens.Med.y Sup.Biología                  ABALDE Lis Yazmín   \n",
       "1                     Ldo. Cs.Computación              ABOY SOLANES Santiago   \n",
       "2                         Ldo. Cs.Físicas           ABREVAYA Germán Ezequiel   \n",
       "3                     Lda. Cs.Matemáticas   ACCOMAZZO SCOTTI Natalia Celeste   \n",
       "4                      Lda. Cs.Geológicas               ACEVEDO Eliana Belén   \n",
       "5                     Ldo. Cs.Matemáticas            ACRI Emiliano Francisco   \n",
       "6                      Ldo. Cs.Biológicas                     ADOT Francisco   \n",
       "7                      Lda. Cs.Geológicas        AGOSTINELLI Mercedes Salomé   \n",
       "8                      Ldo. Cs.Biológicas              AGUERREBERRY Emiliano   \n",
       "9   Magister UBA en Meteorología Agrícola            AGUILERA Regina Beatriz   \n",
       "10                 Dr. UBA(Cs.Biológicas)  AGUILERA SAMMARITANO Juan Alberto   \n",
       "11                     Ldo. Cs.Biológicas            AGUIRRE Cristian Daniel   \n",
       "12                    Dr. UBA(Cs.Físicas)                      ALBERTI Alejo   \n",
       "13       Profesora Ens.Med.y Sup.Biología      ALBIONI MONTENEGRO Gloria Eva   \n",
       "14                     Lda. Cs.Biológicas               ALFARO  Elisa Raquel   \n",
       "15                    Ldo. Cs.Computación                   ALFONSO Mauricio   \n",
       "16  Analista Universitaria de Computación                   ALFONSO Mauricio   \n",
       "17                     Lda. Cs.Biológicas          ALLEN DOHLE Sharon Ingrid   \n",
       "18                    Dr. UBA(Cs.Físicas)              ALLEN Pablo Guillermo   \n",
       "19                     Ldo. Cs.Biológicas                     ALONSO Ignacio   \n",
       "\n",
       "                                    carrera                   name  \\\n",
       "0     Profesorado en Ens.Med.y Sup.Biología          [Lis, Yazmín]   \n",
       "1            Licenciatura en Cs.Computación             [Santiago]   \n",
       "2                Licenciatura en Cs.Físicas     [Germán, Ezequiel]   \n",
       "3            Licenciatura en Cs.Matemáticas     [Natalia, Celeste]   \n",
       "4             Licenciatura en Cs.Geológicas        [Eliana, Belén]   \n",
       "5            Licenciatura en Cs.Matemáticas  [Emiliano, Francisco]   \n",
       "6             Licenciatura en Cs.Biológicas            [Francisco]   \n",
       "7             Licenciatura en Cs.Geológicas     [Mercedes, Salomé]   \n",
       "8             Licenciatura en Cs.Biológicas             [Emiliano]   \n",
       "9   Magisterio UBA en Meteorología Agrícola      [Regina, Beatriz]   \n",
       "10             Doctorado UBA(Cs.Biológicas)        [Juan, Alberto]   \n",
       "11            Licenciatura en Cs.Biológicas     [Cristian, Daniel]   \n",
       "12                Doctorado UBA(Cs.Físicas)                [Alejo]   \n",
       "13    Profesorado en Ens.Med.y Sup.Biología          [Gloria, Eva]   \n",
       "14            Licenciatura en Cs.Biológicas        [Elisa, Raquel]   \n",
       "15           Licenciatura en Cs.Computación             [Mauricio]   \n",
       "16    Analisis Universitaria de Computación             [Mauricio]   \n",
       "17            Licenciatura en Cs.Biológicas       [Sharon, Ingrid]   \n",
       "18                Doctorado UBA(Cs.Físicas)     [Pablo, Guillermo]   \n",
       "19            Licenciatura en Cs.Biológicas              [Ignacio]   \n",
       "\n",
       "               gender  \n",
       "0    [female, female]  \n",
       "1              [male]  \n",
       "2        [male, male]  \n",
       "3    [female, female]  \n",
       "4   [female, unknown]  \n",
       "5        [male, male]  \n",
       "6              [male]  \n",
       "7    [female, female]  \n",
       "8              [male]  \n",
       "9    [female, female]  \n",
       "10       [male, male]  \n",
       "11       [male, male]  \n",
       "12             [male]  \n",
       "13   [female, female]  \n",
       "14   [female, female]  \n",
       "15             [male]  \n",
       "16             [male]  \n",
       "17   [female, female]  \n",
       "18       [male, male]  \n",
       "19             [male]  "
      ]
     },
     "execution_count": 274,
     "metadata": {},
     "output_type": "execute_result"
    }
   ],
   "source": [
    "df.head(20)"
   ]
  },
  {
   "cell_type": "code",
   "execution_count": 299,
   "metadata": {},
   "outputs": [
    {
     "data": {
      "text/plain": [
       "0     <class 'list'>\n",
       "1     <class 'list'>\n",
       "2     <class 'list'>\n",
       "3     <class 'list'>\n",
       "4     <class 'list'>\n",
       "           ...      \n",
       "30    <class 'list'>\n",
       "31    <class 'list'>\n",
       "32    <class 'list'>\n",
       "33    <class 'list'>\n",
       "34    <class 'list'>\n",
       "Name: gender, Length: 667, dtype: object"
      ]
     },
     "execution_count": 299,
     "metadata": {},
     "output_type": "execute_result"
    }
   ],
   "source": [
    "df['gender'].apply(lambda x: x)"
   ]
  }
 ],
 "metadata": {
  "kernelspec": {
   "display_name": "Python 3",
   "language": "python",
   "name": "python3"
  },
  "language_info": {
   "codemirror_mode": {
    "name": "ipython",
    "version": 3
   },
   "file_extension": ".py",
   "mimetype": "text/x-python",
   "name": "python",
   "nbconvert_exporter": "python",
   "pygments_lexer": "ipython3",
   "version": "3.6.9"
  }
 },
 "nbformat": 4,
 "nbformat_minor": 4
}
