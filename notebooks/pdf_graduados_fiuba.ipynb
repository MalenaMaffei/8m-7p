{
 "cells": [
  {
   "cell_type": "code",
   "execution_count": 2,
   "metadata": {},
   "outputs": [],
   "source": [
    "import pandas as pd\n",
    "import numpy\n",
    "import re\n",
    "import csv\n",
    "import pdftotext"
   ]
  },
  {
   "cell_type": "code",
   "execution_count": 5,
   "metadata": {},
   "outputs": [],
   "source": [
    "fiuba = open(\"fiuba_egresados.txt\", \"w\")\n",
    "\n",
    "with open(\"../data/Padrón Graduados 2019 (DEFINITIVO).pdf\", \"rb\") as f:\n",
    "    pdf = pdftotext.PDF(f)\n",
    "    for page in pdf:\n",
    "        fiuba.write(page)\n",
    "        \n",
    "fiuba.close()"
   ]
  },
  {
   "cell_type": "code",
   "execution_count": 6,
   "metadata": {},
   "outputs": [],
   "source": [
    "fiuba = open(\"fiuba_egresados.txt\", \"rb\")\n",
    "text = fiuba.read()\n",
    "rows = str(text).split(\"\\\\n\")\n",
    "\n",
    "egresados = []\n",
    "for e in rows:\n",
    "    data = re.split(r'\\s{2,}',e.encode('utf8').decode('utf-8', 'ignore'))\n",
    "    if len(data) == 4:\n",
    "        egresados.append(data)\n",
    "        \n",
    "fiuba = pd.DataFrame(egresados, columns=[\"DNI\", \"APELLIDO\", \"NOMBRE\", \"CARRERA\"])\n",
    "fiuba.to_csv(\"fiuba_egresados.csv\", index=False)"
   ]
  },
  {
   "cell_type": "code",
   "execution_count": 3,
   "metadata": {},
   "outputs": [],
   "source": [
    "exactas = open(\"exactas_egresados.txt\", \"w\")\n",
    "\n",
    "with open(\"../data/jura20191129.pdf\", \"rb\") as f:\n",
    "    pdf = pdftotext.PDF(f)\n",
    "    for page in pdf:\n",
    "        exactas.write(page)\n",
    "        \n",
    "exactas.close()"
   ]
  },
  {
   "cell_type": "code",
   "execution_count": 4,
   "metadata": {},
   "outputs": [],
   "source": [
    "exactas = open(\"exactas_egresados.txt\", \"rb\")\n",
    "text = exactas.read()\n",
    "rows = str(text).split(\"\\\\n\")\n",
    "\n",
    "egresados = []\n",
    "for e in rows:\n",
    "    data = re.split(r'\\s{2,}',e.encode('utf8').decode('utf-8', 'ignore'))\n",
    "    if len(data) == 2:\n",
    "        egresados.append(data)\n",
    "        \n",
    "exactas = pd.DataFrame(egresados, columns=[\"TITULO\", \"NOMBRE Y APELLIDO\"])\n",
    "exactas.to_csv(\"exactas_egresados.csv\", index=False)"
   ]
  },
  {
   "cell_type": "code",
   "execution_count": 9,
   "metadata": {},
   "outputs": [
    {
     "data": {
      "text/plain": [
       "'Ldo. Cs.Computaci\\\\xc3\\\\xb3n                                 ABOY SOLANES Santiago'"
      ]
     },
     "execution_count": 9,
     "metadata": {},
     "output_type": "execute_result"
    }
   ],
   "source": [
    "rows[2].encode('utf-8').decode('utf-8')"
   ]
  }
 ],
 "metadata": {
  "kernelspec": {
   "display_name": "Python 3",
   "language": "python",
   "name": "python3"
  },
  "language_info": {
   "codemirror_mode": {
    "name": "ipython",
    "version": 3
   },
   "file_extension": ".py",
   "mimetype": "text/x-python",
   "name": "python",
   "nbconvert_exporter": "python",
   "pygments_lexer": "ipython3",
   "version": "3.5.2"
  }
 },
 "nbformat": 4,
 "nbformat_minor": 4
}
