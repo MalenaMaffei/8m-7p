{
 "cells": [
  {
   "cell_type": "code",
   "execution_count": 1,
   "metadata": {},
   "outputs": [],
   "source": [
    "import pandas as pd\n",
    "import gender_guesser.detector as gender"
   ]
  },
  {
   "cell_type": "markdown",
   "metadata": {},
   "source": [
    "### Funciones"
   ]
  },
  {
   "cell_type": "code",
   "execution_count": 2,
   "metadata": {},
   "outputs": [],
   "source": [
    "def is_initial(name):\n",
    "    return len(name) < 4 and '.' in name"
   ]
  },
  {
   "cell_type": "markdown",
   "metadata": {},
   "source": [
    "### Genderizacion"
   ]
  },
  {
   "cell_type": "code",
   "execution_count": 3,
   "metadata": {},
   "outputs": [],
   "source": [
    "d = gender.Detector(case_sensitive=False)"
   ]
  },
  {
   "cell_type": "code",
   "execution_count": 4,
   "metadata": {},
   "outputs": [],
   "source": [
    "DATA = '../data/'"
   ]
  },
  {
   "cell_type": "code",
   "execution_count": 5,
   "metadata": {},
   "outputs": [],
   "source": [
    "DATA_SCRAPING = '../scrapping/outputs/authors_data/'"
   ]
  },
  {
   "cell_type": "code",
   "execution_count": 10,
   "metadata": {},
   "outputs": [],
   "source": [
    "influenced_authors = pd.read_csv(DATA_SCRAPING+'influenced_by_1_from_1.csv')"
   ]
  },
  {
   "cell_type": "code",
   "execution_count": 11,
   "metadata": {},
   "outputs": [
    {
     "data": {
      "text/html": [
       "<div>\n",
       "<style scoped>\n",
       "    .dataframe tbody tr th:only-of-type {\n",
       "        vertical-align: middle;\n",
       "    }\n",
       "\n",
       "    .dataframe tbody tr th {\n",
       "        vertical-align: top;\n",
       "    }\n",
       "\n",
       "    .dataframe thead th {\n",
       "        text-align: right;\n",
       "    }\n",
       "</style>\n",
       "<table border=\"1\" class=\"dataframe\">\n",
       "  <thead>\n",
       "    <tr style=\"text-align: right;\">\n",
       "      <th></th>\n",
       "      <th>author_id</th>\n",
       "      <th>id</th>\n",
       "      <th>name</th>\n",
       "      <th>score</th>\n",
       "    </tr>\n",
       "  </thead>\n",
       "  <tbody>\n",
       "    <tr>\n",
       "      <th>0</th>\n",
       "      <td>1726246</td>\n",
       "      <td>145645850</td>\n",
       "      <td>Ling Ren</td>\n",
       "      <td>411</td>\n",
       "    </tr>\n",
       "    <tr>\n",
       "      <th>1</th>\n",
       "      <td>1726246</td>\n",
       "      <td>2012099</td>\n",
       "      <td>Christopher W. Fletcher</td>\n",
       "      <td>357</td>\n",
       "    </tr>\n",
       "    <tr>\n",
       "      <th>2</th>\n",
       "      <td>1726246</td>\n",
       "      <td>1736809</td>\n",
       "      <td>Kartik Nayak</td>\n",
       "      <td>299</td>\n",
       "    </tr>\n",
       "    <tr>\n",
       "      <th>3</th>\n",
       "      <td>1726246</td>\n",
       "      <td>2155148</td>\n",
       "      <td>Attila A. Yavuz</td>\n",
       "      <td>266</td>\n",
       "    </tr>\n",
       "    <tr>\n",
       "      <th>4</th>\n",
       "      <td>1726246</td>\n",
       "      <td>144568986</td>\n",
       "      <td>T.-H. Hubert Chan</td>\n",
       "      <td>247</td>\n",
       "    </tr>\n",
       "  </tbody>\n",
       "</table>\n",
       "</div>"
      ],
      "text/plain": [
       "   author_id         id                     name  score\n",
       "0    1726246  145645850                 Ling Ren    411\n",
       "1    1726246    2012099  Christopher W. Fletcher    357\n",
       "2    1726246    1736809             Kartik Nayak    299\n",
       "3    1726246    2155148          Attila A. Yavuz    266\n",
       "4    1726246  144568986        T.-H. Hubert Chan    247"
      ]
     },
     "execution_count": 11,
     "metadata": {},
     "output_type": "execute_result"
    }
   ],
   "source": [
    "influenced_authors.head()"
   ]
  },
  {
   "cell_type": "code",
   "execution_count": 12,
   "metadata": {},
   "outputs": [
    {
     "data": {
      "text/plain": [
       "129017"
      ]
     },
     "execution_count": 12,
     "metadata": {},
     "output_type": "execute_result"
    }
   ],
   "source": [
    "len(influenced_authors)"
   ]
  },
  {
   "cell_type": "code",
   "execution_count": 13,
   "metadata": {},
   "outputs": [],
   "source": [
    "influenced_authors['first_name'] = influenced_authors.name.apply(lambda x: x.split()[0])"
   ]
  },
  {
   "cell_type": "code",
   "execution_count": 14,
   "metadata": {},
   "outputs": [
    {
     "data": {
      "text/html": [
       "<div>\n",
       "<style scoped>\n",
       "    .dataframe tbody tr th:only-of-type {\n",
       "        vertical-align: middle;\n",
       "    }\n",
       "\n",
       "    .dataframe tbody tr th {\n",
       "        vertical-align: top;\n",
       "    }\n",
       "\n",
       "    .dataframe thead th {\n",
       "        text-align: right;\n",
       "    }\n",
       "</style>\n",
       "<table border=\"1\" class=\"dataframe\">\n",
       "  <thead>\n",
       "    <tr style=\"text-align: right;\">\n",
       "      <th></th>\n",
       "      <th>author_id</th>\n",
       "      <th>id</th>\n",
       "      <th>name</th>\n",
       "      <th>score</th>\n",
       "      <th>first_name</th>\n",
       "    </tr>\n",
       "  </thead>\n",
       "  <tbody>\n",
       "    <tr>\n",
       "      <th>0</th>\n",
       "      <td>1726246</td>\n",
       "      <td>145645850</td>\n",
       "      <td>Ling Ren</td>\n",
       "      <td>411</td>\n",
       "      <td>Ling</td>\n",
       "    </tr>\n",
       "    <tr>\n",
       "      <th>1</th>\n",
       "      <td>1726246</td>\n",
       "      <td>2012099</td>\n",
       "      <td>Christopher W. Fletcher</td>\n",
       "      <td>357</td>\n",
       "      <td>Christopher</td>\n",
       "    </tr>\n",
       "    <tr>\n",
       "      <th>2</th>\n",
       "      <td>1726246</td>\n",
       "      <td>1736809</td>\n",
       "      <td>Kartik Nayak</td>\n",
       "      <td>299</td>\n",
       "      <td>Kartik</td>\n",
       "    </tr>\n",
       "    <tr>\n",
       "      <th>3</th>\n",
       "      <td>1726246</td>\n",
       "      <td>2155148</td>\n",
       "      <td>Attila A. Yavuz</td>\n",
       "      <td>266</td>\n",
       "      <td>Attila</td>\n",
       "    </tr>\n",
       "    <tr>\n",
       "      <th>4</th>\n",
       "      <td>1726246</td>\n",
       "      <td>144568986</td>\n",
       "      <td>T.-H. Hubert Chan</td>\n",
       "      <td>247</td>\n",
       "      <td>T.-H.</td>\n",
       "    </tr>\n",
       "  </tbody>\n",
       "</table>\n",
       "</div>"
      ],
      "text/plain": [
       "   author_id         id                     name  score   first_name\n",
       "0    1726246  145645850                 Ling Ren    411         Ling\n",
       "1    1726246    2012099  Christopher W. Fletcher    357  Christopher\n",
       "2    1726246    1736809             Kartik Nayak    299       Kartik\n",
       "3    1726246    2155148          Attila A. Yavuz    266       Attila\n",
       "4    1726246  144568986        T.-H. Hubert Chan    247        T.-H."
      ]
     },
     "execution_count": 14,
     "metadata": {},
     "output_type": "execute_result"
    }
   ],
   "source": [
    "influenced_authors.head()"
   ]
  },
  {
   "cell_type": "code",
   "execution_count": 15,
   "metadata": {},
   "outputs": [
    {
     "data": {
      "text/html": [
       "<div>\n",
       "<style scoped>\n",
       "    .dataframe tbody tr th:only-of-type {\n",
       "        vertical-align: middle;\n",
       "    }\n",
       "\n",
       "    .dataframe tbody tr th {\n",
       "        vertical-align: top;\n",
       "    }\n",
       "\n",
       "    .dataframe thead th {\n",
       "        text-align: right;\n",
       "    }\n",
       "</style>\n",
       "<table border=\"1\" class=\"dataframe\">\n",
       "  <thead>\n",
       "    <tr style=\"text-align: right;\">\n",
       "      <th></th>\n",
       "      <th>author_id</th>\n",
       "      <th>id</th>\n",
       "      <th>name</th>\n",
       "      <th>score</th>\n",
       "      <th>first_name</th>\n",
       "    </tr>\n",
       "  </thead>\n",
       "  <tbody>\n",
       "    <tr>\n",
       "      <th>19215</th>\n",
       "      <td>2387132</td>\n",
       "      <td>2347370</td>\n",
       "      <td>Johannes Hötzer</td>\n",
       "      <td>169</td>\n",
       "      <td>Johannes</td>\n",
       "    </tr>\n",
       "    <tr>\n",
       "      <th>100032</th>\n",
       "      <td>145129647</td>\n",
       "      <td>144566689</td>\n",
       "      <td>Belén Calvo</td>\n",
       "      <td>103</td>\n",
       "      <td>Belén</td>\n",
       "    </tr>\n",
       "    <tr>\n",
       "      <th>103267</th>\n",
       "      <td>1946269</td>\n",
       "      <td>3127133</td>\n",
       "      <td>Hassan Ghassemian</td>\n",
       "      <td>18</td>\n",
       "      <td>Hassan</td>\n",
       "    </tr>\n",
       "    <tr>\n",
       "      <th>75355</th>\n",
       "      <td>143947197</td>\n",
       "      <td>153866711</td>\n",
       "      <td>Sebastián Ventura</td>\n",
       "      <td>26</td>\n",
       "      <td>Sebastián</td>\n",
       "    </tr>\n",
       "    <tr>\n",
       "      <th>6864</th>\n",
       "      <td>3308554</td>\n",
       "      <td>9241059</td>\n",
       "      <td>Saeed Ebadi</td>\n",
       "      <td>16</td>\n",
       "      <td>Saeed</td>\n",
       "    </tr>\n",
       "    <tr>\n",
       "      <th>118061</th>\n",
       "      <td>49424792</td>\n",
       "      <td>1403699864</td>\n",
       "      <td>Nathan Souviraà-Labastie</td>\n",
       "      <td>8</td>\n",
       "      <td>Nathan</td>\n",
       "    </tr>\n",
       "    <tr>\n",
       "      <th>39746</th>\n",
       "      <td>144426849</td>\n",
       "      <td>1693689</td>\n",
       "      <td>Nachiappan Nagappan</td>\n",
       "      <td>103</td>\n",
       "      <td>Nachiappan</td>\n",
       "    </tr>\n",
       "    <tr>\n",
       "      <th>40834</th>\n",
       "      <td>50252101</td>\n",
       "      <td>102151391</td>\n",
       "      <td>Silvia Ayunda Murad</td>\n",
       "      <td>5</td>\n",
       "      <td>Silvia</td>\n",
       "    </tr>\n",
       "    <tr>\n",
       "      <th>95061</th>\n",
       "      <td>40771260</td>\n",
       "      <td>15454616</td>\n",
       "      <td>Alexander A. Konovalenko</td>\n",
       "      <td>16</td>\n",
       "      <td>Alexander</td>\n",
       "    </tr>\n",
       "    <tr>\n",
       "      <th>107892</th>\n",
       "      <td>79573587</td>\n",
       "      <td>3379148</td>\n",
       "      <td>Federico Pallottino</td>\n",
       "      <td>6</td>\n",
       "      <td>Federico</td>\n",
       "    </tr>\n",
       "  </tbody>\n",
       "</table>\n",
       "</div>"
      ],
      "text/plain": [
       "        author_id          id                      name  score  first_name\n",
       "19215     2387132     2347370           Johannes Hötzer    169    Johannes\n",
       "100032  145129647   144566689               Belén Calvo    103       Belén\n",
       "103267    1946269     3127133         Hassan Ghassemian     18      Hassan\n",
       "75355   143947197   153866711         Sebastián Ventura     26   Sebastián\n",
       "6864      3308554     9241059               Saeed Ebadi     16       Saeed\n",
       "118061   49424792  1403699864  Nathan Souviraà-Labastie      8      Nathan\n",
       "39746   144426849     1693689       Nachiappan Nagappan    103  Nachiappan\n",
       "40834    50252101   102151391       Silvia Ayunda Murad      5      Silvia\n",
       "95061    40771260    15454616  Alexander A. Konovalenko     16   Alexander\n",
       "107892   79573587     3379148       Federico Pallottino      6    Federico"
      ]
     },
     "execution_count": 15,
     "metadata": {},
     "output_type": "execute_result"
    }
   ],
   "source": [
    "influenced_authors.sample(10)"
   ]
  },
  {
   "cell_type": "markdown",
   "metadata": {},
   "source": [
    "## Creo 'first_name'"
   ]
  },
  {
   "cell_type": "code",
   "execution_count": 16,
   "metadata": {
    "scrolled": true
   },
   "outputs": [
    {
     "data": {
      "text/html": [
       "<div>\n",
       "<style scoped>\n",
       "    .dataframe tbody tr th:only-of-type {\n",
       "        vertical-align: middle;\n",
       "    }\n",
       "\n",
       "    .dataframe tbody tr th {\n",
       "        vertical-align: top;\n",
       "    }\n",
       "\n",
       "    .dataframe thead th {\n",
       "        text-align: right;\n",
       "    }\n",
       "</style>\n",
       "<table border=\"1\" class=\"dataframe\">\n",
       "  <thead>\n",
       "    <tr style=\"text-align: right;\">\n",
       "      <th></th>\n",
       "      <th>author_id</th>\n",
       "      <th>id</th>\n",
       "      <th>name</th>\n",
       "      <th>score</th>\n",
       "      <th>first_name</th>\n",
       "    </tr>\n",
       "  </thead>\n",
       "  <tbody>\n",
       "    <tr>\n",
       "      <th>37</th>\n",
       "      <td>35964168</td>\n",
       "      <td>144688379</td>\n",
       "      <td>Dan Feng</td>\n",
       "      <td>108</td>\n",
       "      <td>Dan</td>\n",
       "    </tr>\n",
       "    <tr>\n",
       "      <th>60</th>\n",
       "      <td>143859272</td>\n",
       "      <td>143966172</td>\n",
       "      <td>Pan Hui</td>\n",
       "      <td>113</td>\n",
       "      <td>Pan</td>\n",
       "    </tr>\n",
       "    <tr>\n",
       "      <th>93</th>\n",
       "      <td>2153304</td>\n",
       "      <td>1709353</td>\n",
       "      <td>Amr El Abbadi</td>\n",
       "      <td>35</td>\n",
       "      <td>Amr</td>\n",
       "    </tr>\n",
       "    <tr>\n",
       "      <th>108</th>\n",
       "      <td>1702744</td>\n",
       "      <td>1752788</td>\n",
       "      <td>Dan Boneh</td>\n",
       "      <td>96</td>\n",
       "      <td>Dan</td>\n",
       "    </tr>\n",
       "    <tr>\n",
       "      <th>162</th>\n",
       "      <td>2478475</td>\n",
       "      <td>1697247</td>\n",
       "      <td>Ali Sunyaev</td>\n",
       "      <td>16</td>\n",
       "      <td>Ali</td>\n",
       "    </tr>\n",
       "    <tr>\n",
       "      <th>...</th>\n",
       "      <td>...</td>\n",
       "      <td>...</td>\n",
       "      <td>...</td>\n",
       "      <td>...</td>\n",
       "      <td>...</td>\n",
       "    </tr>\n",
       "    <tr>\n",
       "      <th>128939</th>\n",
       "      <td>3196491</td>\n",
       "      <td>144964282</td>\n",
       "      <td>D. Richard Kuhn</td>\n",
       "      <td>25</td>\n",
       "      <td>D.</td>\n",
       "    </tr>\n",
       "    <tr>\n",
       "      <th>128953</th>\n",
       "      <td>2747138</td>\n",
       "      <td>144687982</td>\n",
       "      <td>K. Gopakumar</td>\n",
       "      <td>80</td>\n",
       "      <td>K.</td>\n",
       "    </tr>\n",
       "    <tr>\n",
       "      <th>128954</th>\n",
       "      <td>2747138</td>\n",
       "      <td>144286539</td>\n",
       "      <td>K. Gopakumar</td>\n",
       "      <td>51</td>\n",
       "      <td>K.</td>\n",
       "    </tr>\n",
       "    <tr>\n",
       "      <th>128976</th>\n",
       "      <td>1409839496</td>\n",
       "      <td>1397306793</td>\n",
       "      <td>Amr El-Mougy</td>\n",
       "      <td>1</td>\n",
       "      <td>Amr</td>\n",
       "    </tr>\n",
       "    <tr>\n",
       "      <th>128984</th>\n",
       "      <td>1786771</td>\n",
       "      <td>48448039</td>\n",
       "      <td>Gal Raz</td>\n",
       "      <td>29</td>\n",
       "      <td>Gal</td>\n",
       "    </tr>\n",
       "  </tbody>\n",
       "</table>\n",
       "<p>9306 rows × 5 columns</p>\n",
       "</div>"
      ],
      "text/plain": [
       "         author_id          id             name  score first_name\n",
       "37        35964168   144688379         Dan Feng    108        Dan\n",
       "60       143859272   143966172          Pan Hui    113        Pan\n",
       "93         2153304     1709353    Amr El Abbadi     35        Amr\n",
       "108        1702744     1752788        Dan Boneh     96        Dan\n",
       "162        2478475     1697247      Ali Sunyaev     16        Ali\n",
       "...            ...         ...              ...    ...        ...\n",
       "128939     3196491   144964282  D. Richard Kuhn     25         D.\n",
       "128953     2747138   144687982     K. Gopakumar     80         K.\n",
       "128954     2747138   144286539     K. Gopakumar     51         K.\n",
       "128976  1409839496  1397306793     Amr El-Mougy      1        Amr\n",
       "128984     1786771    48448039          Gal Raz     29        Gal\n",
       "\n",
       "[9306 rows x 5 columns]"
      ]
     },
     "execution_count": 16,
     "metadata": {},
     "output_type": "execute_result"
    }
   ],
   "source": [
    "influenced_authors[influenced_authors['first_name'].apply(lambda x: len(x)<4)]"
   ]
  },
  {
   "cell_type": "markdown",
   "metadata": {},
   "source": [
    "## Detecto y descarto iniciales en 'first_name'"
   ]
  },
  {
   "cell_type": "code",
   "execution_count": 17,
   "metadata": {},
   "outputs": [
    {
     "data": {
      "text/plain": [
       "False    126586\n",
       "True       2431\n",
       "Name: is_initial, dtype: int64"
      ]
     },
     "execution_count": 17,
     "metadata": {},
     "output_type": "execute_result"
    }
   ],
   "source": [
    "influenced_authors['is_initial'] = influenced_authors.first_name.apply(is_initial)\n",
    "influenced_authors.is_initial.value_counts()"
   ]
  },
  {
   "cell_type": "code",
   "execution_count": 18,
   "metadata": {},
   "outputs": [
    {
     "data": {
      "text/html": [
       "<div>\n",
       "<style scoped>\n",
       "    .dataframe tbody tr th:only-of-type {\n",
       "        vertical-align: middle;\n",
       "    }\n",
       "\n",
       "    .dataframe tbody tr th {\n",
       "        vertical-align: top;\n",
       "    }\n",
       "\n",
       "    .dataframe thead th {\n",
       "        text-align: right;\n",
       "    }\n",
       "</style>\n",
       "<table border=\"1\" class=\"dataframe\">\n",
       "  <thead>\n",
       "    <tr style=\"text-align: right;\">\n",
       "      <th></th>\n",
       "      <th>author_id</th>\n",
       "      <th>id</th>\n",
       "      <th>name</th>\n",
       "      <th>score</th>\n",
       "      <th>first_name</th>\n",
       "      <th>is_initial</th>\n",
       "    </tr>\n",
       "  </thead>\n",
       "  <tbody>\n",
       "    <tr>\n",
       "      <th>0</th>\n",
       "      <td>1726246</td>\n",
       "      <td>145645850</td>\n",
       "      <td>Ling Ren</td>\n",
       "      <td>411</td>\n",
       "      <td>Ling</td>\n",
       "      <td>False</td>\n",
       "    </tr>\n",
       "    <tr>\n",
       "      <th>1</th>\n",
       "      <td>1726246</td>\n",
       "      <td>2012099</td>\n",
       "      <td>Christopher W. Fletcher</td>\n",
       "      <td>357</td>\n",
       "      <td>Christopher</td>\n",
       "      <td>False</td>\n",
       "    </tr>\n",
       "    <tr>\n",
       "      <th>2</th>\n",
       "      <td>1726246</td>\n",
       "      <td>1736809</td>\n",
       "      <td>Kartik Nayak</td>\n",
       "      <td>299</td>\n",
       "      <td>Kartik</td>\n",
       "      <td>False</td>\n",
       "    </tr>\n",
       "    <tr>\n",
       "      <th>3</th>\n",
       "      <td>1726246</td>\n",
       "      <td>2155148</td>\n",
       "      <td>Attila A. Yavuz</td>\n",
       "      <td>266</td>\n",
       "      <td>Attila</td>\n",
       "      <td>False</td>\n",
       "    </tr>\n",
       "    <tr>\n",
       "      <th>4</th>\n",
       "      <td>1726246</td>\n",
       "      <td>144568986</td>\n",
       "      <td>T.-H. Hubert Chan</td>\n",
       "      <td>247</td>\n",
       "      <td>T.-H.</td>\n",
       "      <td>False</td>\n",
       "    </tr>\n",
       "  </tbody>\n",
       "</table>\n",
       "</div>"
      ],
      "text/plain": [
       "   author_id         id                     name  score   first_name  \\\n",
       "0    1726246  145645850                 Ling Ren    411         Ling   \n",
       "1    1726246    2012099  Christopher W. Fletcher    357  Christopher   \n",
       "2    1726246    1736809             Kartik Nayak    299       Kartik   \n",
       "3    1726246    2155148          Attila A. Yavuz    266       Attila   \n",
       "4    1726246  144568986        T.-H. Hubert Chan    247        T.-H.   \n",
       "\n",
       "   is_initial  \n",
       "0       False  \n",
       "1       False  \n",
       "2       False  \n",
       "3       False  \n",
       "4       False  "
      ]
     },
     "execution_count": 18,
     "metadata": {},
     "output_type": "execute_result"
    }
   ],
   "source": [
    "influenced_authors.head()"
   ]
  },
  {
   "cell_type": "code",
   "execution_count": 19,
   "metadata": {},
   "outputs": [],
   "source": [
    "influenced_authors = influenced_authors[~ influenced_authors.is_initial]"
   ]
  },
  {
   "cell_type": "code",
   "execution_count": 20,
   "metadata": {},
   "outputs": [
    {
     "data": {
      "text/plain": [
       "126586"
      ]
     },
     "execution_count": 20,
     "metadata": {},
     "output_type": "execute_result"
    }
   ],
   "source": [
    "len(influenced_authors)"
   ]
  },
  {
   "cell_type": "markdown",
   "metadata": {},
   "source": [
    "## Genderizo archivo para id unicos"
   ]
  },
  {
   "cell_type": "code",
   "execution_count": 21,
   "metadata": {},
   "outputs": [],
   "source": [
    "influenced_authors_uniques = influenced_authors[['id', 'first_name']].drop_duplicates()"
   ]
  },
  {
   "cell_type": "code",
   "execution_count": 22,
   "metadata": {},
   "outputs": [
    {
     "data": {
      "text/plain": [
       "80153"
      ]
     },
     "execution_count": 22,
     "metadata": {},
     "output_type": "execute_result"
    }
   ],
   "source": [
    "len(influenced_authors_uniques)"
   ]
  },
  {
   "cell_type": "code",
   "execution_count": 23,
   "metadata": {},
   "outputs": [
    {
     "data": {
      "text/html": [
       "<div>\n",
       "<style scoped>\n",
       "    .dataframe tbody tr th:only-of-type {\n",
       "        vertical-align: middle;\n",
       "    }\n",
       "\n",
       "    .dataframe tbody tr th {\n",
       "        vertical-align: top;\n",
       "    }\n",
       "\n",
       "    .dataframe thead th {\n",
       "        text-align: right;\n",
       "    }\n",
       "</style>\n",
       "<table border=\"1\" class=\"dataframe\">\n",
       "  <thead>\n",
       "    <tr style=\"text-align: right;\">\n",
       "      <th></th>\n",
       "      <th>id</th>\n",
       "      <th>first_name</th>\n",
       "    </tr>\n",
       "  </thead>\n",
       "  <tbody>\n",
       "    <tr>\n",
       "      <th>0</th>\n",
       "      <td>145645850</td>\n",
       "      <td>Ling</td>\n",
       "    </tr>\n",
       "    <tr>\n",
       "      <th>1</th>\n",
       "      <td>2012099</td>\n",
       "      <td>Christopher</td>\n",
       "    </tr>\n",
       "    <tr>\n",
       "      <th>2</th>\n",
       "      <td>1736809</td>\n",
       "      <td>Kartik</td>\n",
       "    </tr>\n",
       "    <tr>\n",
       "      <th>3</th>\n",
       "      <td>2155148</td>\n",
       "      <td>Attila</td>\n",
       "    </tr>\n",
       "    <tr>\n",
       "      <th>4</th>\n",
       "      <td>144568986</td>\n",
       "      <td>T.-H.</td>\n",
       "    </tr>\n",
       "  </tbody>\n",
       "</table>\n",
       "</div>"
      ],
      "text/plain": [
       "          id   first_name\n",
       "0  145645850         Ling\n",
       "1    2012099  Christopher\n",
       "2    1736809       Kartik\n",
       "3    2155148       Attila\n",
       "4  144568986        T.-H."
      ]
     },
     "execution_count": 23,
     "metadata": {},
     "output_type": "execute_result"
    }
   ],
   "source": [
    "influenced_authors_uniques.head()"
   ]
  },
  {
   "cell_type": "code",
   "execution_count": 24,
   "metadata": {},
   "outputs": [],
   "source": [
    "influenced_authors_uniques['gender'] = influenced_authors_uniques.first_name.apply(lambda x: d.get_gender(x))"
   ]
  },
  {
   "cell_type": "code",
   "execution_count": 25,
   "metadata": {},
   "outputs": [
    {
     "data": {
      "text/html": [
       "<div>\n",
       "<style scoped>\n",
       "    .dataframe tbody tr th:only-of-type {\n",
       "        vertical-align: middle;\n",
       "    }\n",
       "\n",
       "    .dataframe tbody tr th {\n",
       "        vertical-align: top;\n",
       "    }\n",
       "\n",
       "    .dataframe thead th {\n",
       "        text-align: right;\n",
       "    }\n",
       "</style>\n",
       "<table border=\"1\" class=\"dataframe\">\n",
       "  <thead>\n",
       "    <tr style=\"text-align: right;\">\n",
       "      <th></th>\n",
       "      <th>id</th>\n",
       "      <th>first_name</th>\n",
       "      <th>gender</th>\n",
       "    </tr>\n",
       "  </thead>\n",
       "  <tbody>\n",
       "    <tr>\n",
       "      <th>0</th>\n",
       "      <td>145645850</td>\n",
       "      <td>Ling</td>\n",
       "      <td>andy</td>\n",
       "    </tr>\n",
       "    <tr>\n",
       "      <th>1</th>\n",
       "      <td>2012099</td>\n",
       "      <td>Christopher</td>\n",
       "      <td>male</td>\n",
       "    </tr>\n",
       "    <tr>\n",
       "      <th>2</th>\n",
       "      <td>1736809</td>\n",
       "      <td>Kartik</td>\n",
       "      <td>unknown</td>\n",
       "    </tr>\n",
       "    <tr>\n",
       "      <th>3</th>\n",
       "      <td>2155148</td>\n",
       "      <td>Attila</td>\n",
       "      <td>male</td>\n",
       "    </tr>\n",
       "    <tr>\n",
       "      <th>4</th>\n",
       "      <td>144568986</td>\n",
       "      <td>T.-H.</td>\n",
       "      <td>unknown</td>\n",
       "    </tr>\n",
       "  </tbody>\n",
       "</table>\n",
       "</div>"
      ],
      "text/plain": [
       "          id   first_name   gender\n",
       "0  145645850         Ling     andy\n",
       "1    2012099  Christopher     male\n",
       "2    1736809       Kartik  unknown\n",
       "3    2155148       Attila     male\n",
       "4  144568986        T.-H.  unknown"
      ]
     },
     "execution_count": 25,
     "metadata": {},
     "output_type": "execute_result"
    }
   ],
   "source": [
    "influenced_authors_uniques.head()"
   ]
  },
  {
   "cell_type": "markdown",
   "metadata": {},
   "source": [
    "## Mergeo con archivo original"
   ]
  },
  {
   "cell_type": "code",
   "execution_count": 26,
   "metadata": {},
   "outputs": [],
   "source": [
    "influenced_authors = influenced_authors.merge(influenced_authors_uniques, on=['id', 'first_name'], how='left')"
   ]
  },
  {
   "cell_type": "code",
   "execution_count": 27,
   "metadata": {},
   "outputs": [
    {
     "data": {
      "text/html": [
       "<div>\n",
       "<style scoped>\n",
       "    .dataframe tbody tr th:only-of-type {\n",
       "        vertical-align: middle;\n",
       "    }\n",
       "\n",
       "    .dataframe tbody tr th {\n",
       "        vertical-align: top;\n",
       "    }\n",
       "\n",
       "    .dataframe thead th {\n",
       "        text-align: right;\n",
       "    }\n",
       "</style>\n",
       "<table border=\"1\" class=\"dataframe\">\n",
       "  <thead>\n",
       "    <tr style=\"text-align: right;\">\n",
       "      <th></th>\n",
       "      <th>author_id</th>\n",
       "      <th>id</th>\n",
       "      <th>name</th>\n",
       "      <th>score</th>\n",
       "      <th>first_name</th>\n",
       "      <th>is_initial</th>\n",
       "      <th>gender</th>\n",
       "    </tr>\n",
       "  </thead>\n",
       "  <tbody>\n",
       "    <tr>\n",
       "      <th>2</th>\n",
       "      <td>1726246</td>\n",
       "      <td>1736809</td>\n",
       "      <td>Kartik Nayak</td>\n",
       "      <td>299</td>\n",
       "      <td>Kartik</td>\n",
       "      <td>False</td>\n",
       "      <td>unknown</td>\n",
       "    </tr>\n",
       "    <tr>\n",
       "      <th>4</th>\n",
       "      <td>1726246</td>\n",
       "      <td>144568986</td>\n",
       "      <td>T.-H. Hubert Chan</td>\n",
       "      <td>247</td>\n",
       "      <td>T.-H.</td>\n",
       "      <td>False</td>\n",
       "      <td>unknown</td>\n",
       "    </tr>\n",
       "    <tr>\n",
       "      <th>11</th>\n",
       "      <td>144066998</td>\n",
       "      <td>2913151</td>\n",
       "      <td>Mayutan Arumaithurai</td>\n",
       "      <td>134</td>\n",
       "      <td>Mayutan</td>\n",
       "      <td>False</td>\n",
       "      <td>unknown</td>\n",
       "    </tr>\n",
       "    <tr>\n",
       "      <th>22</th>\n",
       "      <td>1726246</td>\n",
       "      <td>1736809</td>\n",
       "      <td>Kartik Nayak</td>\n",
       "      <td>299</td>\n",
       "      <td>Kartik</td>\n",
       "      <td>False</td>\n",
       "      <td>unknown</td>\n",
       "    </tr>\n",
       "    <tr>\n",
       "      <th>24</th>\n",
       "      <td>1726246</td>\n",
       "      <td>144568986</td>\n",
       "      <td>T.-H. Hubert Chan</td>\n",
       "      <td>247</td>\n",
       "      <td>T.-H.</td>\n",
       "      <td>False</td>\n",
       "      <td>unknown</td>\n",
       "    </tr>\n",
       "    <tr>\n",
       "      <th>...</th>\n",
       "      <td>...</td>\n",
       "      <td>...</td>\n",
       "      <td>...</td>\n",
       "      <td>...</td>\n",
       "      <td>...</td>\n",
       "      <td>...</td>\n",
       "      <td>...</td>\n",
       "    </tr>\n",
       "    <tr>\n",
       "      <th>126549</th>\n",
       "      <td>3415759</td>\n",
       "      <td>1388632905</td>\n",
       "      <td>Nhien-An Le-Khac</td>\n",
       "      <td>5</td>\n",
       "      <td>Nhien-An</td>\n",
       "      <td>False</td>\n",
       "      <td>unknown</td>\n",
       "    </tr>\n",
       "    <tr>\n",
       "      <th>126550</th>\n",
       "      <td>3415759</td>\n",
       "      <td>51118223</td>\n",
       "      <td>Ulia Trifonova</td>\n",
       "      <td>3</td>\n",
       "      <td>Ulia</td>\n",
       "      <td>False</td>\n",
       "      <td>unknown</td>\n",
       "    </tr>\n",
       "    <tr>\n",
       "      <th>126552</th>\n",
       "      <td>1786771</td>\n",
       "      <td>1786905</td>\n",
       "      <td>Gabor Aranyi</td>\n",
       "      <td>36</td>\n",
       "      <td>Gabor</td>\n",
       "      <td>False</td>\n",
       "      <td>unknown</td>\n",
       "    </tr>\n",
       "    <tr>\n",
       "      <th>126554</th>\n",
       "      <td>1786771</td>\n",
       "      <td>1759275</td>\n",
       "      <td>Gilan Jackont</td>\n",
       "      <td>26</td>\n",
       "      <td>Gilan</td>\n",
       "      <td>False</td>\n",
       "      <td>unknown</td>\n",
       "    </tr>\n",
       "    <tr>\n",
       "      <th>126557</th>\n",
       "      <td>145295484</td>\n",
       "      <td>2338122</td>\n",
       "      <td>Mayank Vatsa</td>\n",
       "      <td>722</td>\n",
       "      <td>Mayank</td>\n",
       "      <td>False</td>\n",
       "      <td>unknown</td>\n",
       "    </tr>\n",
       "  </tbody>\n",
       "</table>\n",
       "<p>18762 rows × 7 columns</p>\n",
       "</div>"
      ],
      "text/plain": [
       "        author_id          id                  name  score first_name  \\\n",
       "2         1726246     1736809          Kartik Nayak    299     Kartik   \n",
       "4         1726246   144568986     T.-H. Hubert Chan    247      T.-H.   \n",
       "11      144066998     2913151  Mayutan Arumaithurai    134    Mayutan   \n",
       "22        1726246     1736809          Kartik Nayak    299     Kartik   \n",
       "24        1726246   144568986     T.-H. Hubert Chan    247      T.-H.   \n",
       "...           ...         ...                   ...    ...        ...   \n",
       "126549    3415759  1388632905      Nhien-An Le-Khac      5   Nhien-An   \n",
       "126550    3415759    51118223        Ulia Trifonova      3       Ulia   \n",
       "126552    1786771     1786905          Gabor Aranyi     36      Gabor   \n",
       "126554    1786771     1759275         Gilan Jackont     26      Gilan   \n",
       "126557  145295484     2338122          Mayank Vatsa    722     Mayank   \n",
       "\n",
       "        is_initial   gender  \n",
       "2            False  unknown  \n",
       "4            False  unknown  \n",
       "11           False  unknown  \n",
       "22           False  unknown  \n",
       "24           False  unknown  \n",
       "...            ...      ...  \n",
       "126549       False  unknown  \n",
       "126550       False  unknown  \n",
       "126552       False  unknown  \n",
       "126554       False  unknown  \n",
       "126557       False  unknown  \n",
       "\n",
       "[18762 rows x 7 columns]"
      ]
     },
     "execution_count": 27,
     "metadata": {},
     "output_type": "execute_result"
    }
   ],
   "source": [
    "influenced_authors[influenced_authors.gender == 'unknown']"
   ]
  },
  {
   "cell_type": "markdown",
   "metadata": {},
   "source": [
    "##  Corroboro que no haya nulls en 'gender'"
   ]
  },
  {
   "cell_type": "code",
   "execution_count": 28,
   "metadata": {},
   "outputs": [
    {
     "data": {
      "text/html": [
       "<div>\n",
       "<style scoped>\n",
       "    .dataframe tbody tr th:only-of-type {\n",
       "        vertical-align: middle;\n",
       "    }\n",
       "\n",
       "    .dataframe tbody tr th {\n",
       "        vertical-align: top;\n",
       "    }\n",
       "\n",
       "    .dataframe thead th {\n",
       "        text-align: right;\n",
       "    }\n",
       "</style>\n",
       "<table border=\"1\" class=\"dataframe\">\n",
       "  <thead>\n",
       "    <tr style=\"text-align: right;\">\n",
       "      <th></th>\n",
       "      <th>author_id</th>\n",
       "      <th>id</th>\n",
       "      <th>name</th>\n",
       "      <th>score</th>\n",
       "      <th>first_name</th>\n",
       "      <th>is_initial</th>\n",
       "      <th>gender</th>\n",
       "    </tr>\n",
       "  </thead>\n",
       "  <tbody>\n",
       "  </tbody>\n",
       "</table>\n",
       "</div>"
      ],
      "text/plain": [
       "Empty DataFrame\n",
       "Columns: [author_id, id, name, score, first_name, is_initial, gender]\n",
       "Index: []"
      ]
     },
     "execution_count": 28,
     "metadata": {},
     "output_type": "execute_result"
    }
   ],
   "source": [
    "influenced_authors[influenced_authors.gender.isnull()]"
   ]
  },
  {
   "cell_type": "markdown",
   "metadata": {},
   "source": [
    "## Muestreo de distribucion de genero"
   ]
  },
  {
   "cell_type": "code",
   "execution_count": 29,
   "metadata": {},
   "outputs": [
    {
     "data": {
      "text/html": [
       "<div>\n",
       "<style scoped>\n",
       "    .dataframe tbody tr th:only-of-type {\n",
       "        vertical-align: middle;\n",
       "    }\n",
       "\n",
       "    .dataframe tbody tr th {\n",
       "        vertical-align: top;\n",
       "    }\n",
       "\n",
       "    .dataframe thead th {\n",
       "        text-align: right;\n",
       "    }\n",
       "</style>\n",
       "<table border=\"1\" class=\"dataframe\">\n",
       "  <thead>\n",
       "    <tr style=\"text-align: right;\">\n",
       "      <th></th>\n",
       "      <th>author_id</th>\n",
       "      <th>id</th>\n",
       "      <th>name</th>\n",
       "      <th>score</th>\n",
       "      <th>first_name</th>\n",
       "      <th>is_initial</th>\n",
       "    </tr>\n",
       "    <tr>\n",
       "      <th>gender</th>\n",
       "      <th></th>\n",
       "      <th></th>\n",
       "      <th></th>\n",
       "      <th></th>\n",
       "      <th></th>\n",
       "      <th></th>\n",
       "    </tr>\n",
       "  </thead>\n",
       "  <tbody>\n",
       "    <tr>\n",
       "      <th>andy</th>\n",
       "      <td>8961</td>\n",
       "      <td>8961</td>\n",
       "      <td>8961</td>\n",
       "      <td>8961</td>\n",
       "      <td>8961</td>\n",
       "      <td>8961</td>\n",
       "    </tr>\n",
       "    <tr>\n",
       "      <th>female</th>\n",
       "      <td>19713</td>\n",
       "      <td>19713</td>\n",
       "      <td>19713</td>\n",
       "      <td>19713</td>\n",
       "      <td>19713</td>\n",
       "      <td>19713</td>\n",
       "    </tr>\n",
       "    <tr>\n",
       "      <th>male</th>\n",
       "      <td>75319</td>\n",
       "      <td>75319</td>\n",
       "      <td>75319</td>\n",
       "      <td>75319</td>\n",
       "      <td>75319</td>\n",
       "      <td>75319</td>\n",
       "    </tr>\n",
       "    <tr>\n",
       "      <th>mostly_female</th>\n",
       "      <td>1001</td>\n",
       "      <td>1001</td>\n",
       "      <td>1001</td>\n",
       "      <td>1001</td>\n",
       "      <td>1001</td>\n",
       "      <td>1001</td>\n",
       "    </tr>\n",
       "    <tr>\n",
       "      <th>mostly_male</th>\n",
       "      <td>2830</td>\n",
       "      <td>2830</td>\n",
       "      <td>2830</td>\n",
       "      <td>2830</td>\n",
       "      <td>2830</td>\n",
       "      <td>2830</td>\n",
       "    </tr>\n",
       "    <tr>\n",
       "      <th>unknown</th>\n",
       "      <td>18762</td>\n",
       "      <td>18762</td>\n",
       "      <td>18762</td>\n",
       "      <td>18762</td>\n",
       "      <td>18762</td>\n",
       "      <td>18762</td>\n",
       "    </tr>\n",
       "  </tbody>\n",
       "</table>\n",
       "</div>"
      ],
      "text/plain": [
       "               author_id     id   name  score  first_name  is_initial\n",
       "gender                                                               \n",
       "andy                8961   8961   8961   8961        8961        8961\n",
       "female             19713  19713  19713  19713       19713       19713\n",
       "male               75319  75319  75319  75319       75319       75319\n",
       "mostly_female       1001   1001   1001   1001        1001        1001\n",
       "mostly_male         2830   2830   2830   2830        2830        2830\n",
       "unknown            18762  18762  18762  18762       18762       18762"
      ]
     },
     "execution_count": 29,
     "metadata": {},
     "output_type": "execute_result"
    }
   ],
   "source": [
    "influenced_authors_groupped = influenced_authors.groupby('gender').count()\n",
    "influenced_authors_groupped"
   ]
  },
  {
   "cell_type": "code",
   "execution_count": 30,
   "metadata": {},
   "outputs": [],
   "source": [
    "influenced_authors_groupped['gender_rate'] = round((influenced_authors_groupped['author_id']*100)/(influenced_authors_groupped['author_id'].sum()),2)"
   ]
  },
  {
   "cell_type": "code",
   "execution_count": 31,
   "metadata": {},
   "outputs": [],
   "source": [
    "influenced_authors_groupped = influenced_authors_groupped[['author_id', 'gender_rate']].rename(columns={'author_id':'count'})"
   ]
  },
  {
   "cell_type": "code",
   "execution_count": 32,
   "metadata": {},
   "outputs": [
    {
     "data": {
      "text/html": [
       "<div>\n",
       "<style scoped>\n",
       "    .dataframe tbody tr th:only-of-type {\n",
       "        vertical-align: middle;\n",
       "    }\n",
       "\n",
       "    .dataframe tbody tr th {\n",
       "        vertical-align: top;\n",
       "    }\n",
       "\n",
       "    .dataframe thead th {\n",
       "        text-align: right;\n",
       "    }\n",
       "</style>\n",
       "<table border=\"1\" class=\"dataframe\">\n",
       "  <thead>\n",
       "    <tr style=\"text-align: right;\">\n",
       "      <th></th>\n",
       "      <th>count</th>\n",
       "      <th>gender_rate</th>\n",
       "    </tr>\n",
       "    <tr>\n",
       "      <th>gender</th>\n",
       "      <th></th>\n",
       "      <th></th>\n",
       "    </tr>\n",
       "  </thead>\n",
       "  <tbody>\n",
       "    <tr>\n",
       "      <th>andy</th>\n",
       "      <td>8961</td>\n",
       "      <td>7.08</td>\n",
       "    </tr>\n",
       "    <tr>\n",
       "      <th>female</th>\n",
       "      <td>19713</td>\n",
       "      <td>15.57</td>\n",
       "    </tr>\n",
       "    <tr>\n",
       "      <th>male</th>\n",
       "      <td>75319</td>\n",
       "      <td>59.50</td>\n",
       "    </tr>\n",
       "    <tr>\n",
       "      <th>mostly_female</th>\n",
       "      <td>1001</td>\n",
       "      <td>0.79</td>\n",
       "    </tr>\n",
       "    <tr>\n",
       "      <th>mostly_male</th>\n",
       "      <td>2830</td>\n",
       "      <td>2.24</td>\n",
       "    </tr>\n",
       "    <tr>\n",
       "      <th>unknown</th>\n",
       "      <td>18762</td>\n",
       "      <td>14.82</td>\n",
       "    </tr>\n",
       "  </tbody>\n",
       "</table>\n",
       "</div>"
      ],
      "text/plain": [
       "               count  gender_rate\n",
       "gender                           \n",
       "andy            8961         7.08\n",
       "female         19713        15.57\n",
       "male           75319        59.50\n",
       "mostly_female   1001         0.79\n",
       "mostly_male     2830         2.24\n",
       "unknown        18762        14.82"
      ]
     },
     "execution_count": 32,
     "metadata": {},
     "output_type": "execute_result"
    }
   ],
   "source": [
    "influenced_authors_groupped"
   ]
  },
  {
   "cell_type": "markdown",
   "metadata": {},
   "source": [
    "## Exporto a csv"
   ]
  },
  {
   "cell_type": "code",
   "execution_count": null,
   "metadata": {},
   "outputs": [],
   "source": [
    "# influenced_authors[['author_id', 'id', 'name', 'score', 'gender']].to_csv(DATA+'influencer_author_id_name_gender.csv', index=False)"
   ]
  },
  {
   "cell_type": "code",
   "execution_count": 33,
   "metadata": {},
   "outputs": [],
   "source": [
    "influenced_authors[['author_id', 'id', 'name', 'score', 'gender']].to_csv(DATA+'influenced_by_author_id_name_gender.csv', index=False)"
   ]
  }
 ],
 "metadata": {
  "kernelspec": {
   "display_name": "Python 3",
   "language": "python",
   "name": "python3"
  },
  "language_info": {
   "codemirror_mode": {
    "name": "ipython",
    "version": 3
   },
   "file_extension": ".py",
   "mimetype": "text/x-python",
   "name": "python",
   "nbconvert_exporter": "python",
   "pygments_lexer": "ipython3",
   "version": "3.6.9"
  }
 },
 "nbformat": 4,
 "nbformat_minor": 4
}
