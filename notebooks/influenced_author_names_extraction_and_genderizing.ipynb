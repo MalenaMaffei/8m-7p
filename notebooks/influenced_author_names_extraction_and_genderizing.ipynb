{
 "cells": [
  {
   "cell_type": "code",
   "execution_count": 1,
   "metadata": {},
   "outputs": [],
   "source": [
    "import pandas as pd\n",
    "import gender_guesser.detector as gender"
   ]
  },
  {
   "cell_type": "markdown",
   "metadata": {},
   "source": [
    "### Funciones"
   ]
  },
  {
   "cell_type": "code",
   "execution_count": 2,
   "metadata": {},
   "outputs": [],
   "source": [
    "def is_initial(name):\n",
    "    return len(name) < 4 and '.' in name"
   ]
  },
  {
   "cell_type": "markdown",
   "metadata": {},
   "source": [
    "### Definicion de input/output"
   ]
  },
  {
   "cell_type": "code",
   "execution_count": 3,
   "metadata": {},
   "outputs": [],
   "source": [
    "# PROCESS = 'influenced'\n",
    "PROCESS = 'influencer'"
   ]
  },
  {
   "cell_type": "markdown",
   "metadata": {},
   "source": [
    "### Genderizacion"
   ]
  },
  {
   "cell_type": "code",
   "execution_count": 4,
   "metadata": {},
   "outputs": [],
   "source": [
    "d = gender.Detector(case_sensitive=False)"
   ]
  },
  {
   "cell_type": "code",
   "execution_count": 5,
   "metadata": {},
   "outputs": [],
   "source": [
    "DATA = '../data/'"
   ]
  },
  {
   "cell_type": "code",
   "execution_count": 6,
   "metadata": {},
   "outputs": [],
   "source": [
    "DATA_SCRAPING = '../scrapping/outputs/authors_data/'"
   ]
  },
  {
   "cell_type": "code",
   "execution_count": 7,
   "metadata": {},
   "outputs": [],
   "source": [
    "if PROCESS == 'influenced':\n",
    "    influenced_authors = pd.read_csv(DATA_SCRAPING+'influenced_by_1_from_1.csv')\n",
    "elif PROCESS == 'influencer':\n",
    "    influenced_authors = pd.read_csv(DATA_SCRAPING+'influenced_authors_1_from_1.csv')\n",
    "else:\n",
    "    print('Falta definir variable PROCESS -go to the top-')    "
   ]
  },
  {
   "cell_type": "code",
   "execution_count": 8,
   "metadata": {},
   "outputs": [
    {
     "data": {
      "text/html": [
       "<div>\n",
       "<style scoped>\n",
       "    .dataframe tbody tr th:only-of-type {\n",
       "        vertical-align: middle;\n",
       "    }\n",
       "\n",
       "    .dataframe tbody tr th {\n",
       "        vertical-align: top;\n",
       "    }\n",
       "\n",
       "    .dataframe thead th {\n",
       "        text-align: right;\n",
       "    }\n",
       "</style>\n",
       "<table border=\"1\" class=\"dataframe\">\n",
       "  <thead>\n",
       "    <tr style=\"text-align: right;\">\n",
       "      <th></th>\n",
       "      <th>author_id</th>\n",
       "      <th>id</th>\n",
       "      <th>name</th>\n",
       "      <th>score</th>\n",
       "    </tr>\n",
       "  </thead>\n",
       "  <tbody>\n",
       "    <tr>\n",
       "      <th>0</th>\n",
       "      <td>1726246</td>\n",
       "      <td>1748224</td>\n",
       "      <td>Rafail Ostrovsky</td>\n",
       "      <td>486</td>\n",
       "    </tr>\n",
       "    <tr>\n",
       "      <th>1</th>\n",
       "      <td>1726246</td>\n",
       "      <td>1752788</td>\n",
       "      <td>Dan Boneh</td>\n",
       "      <td>249</td>\n",
       "    </tr>\n",
       "    <tr>\n",
       "      <th>2</th>\n",
       "      <td>1726246</td>\n",
       "      <td>1679615</td>\n",
       "      <td>Michael T. Goodrich</td>\n",
       "      <td>246</td>\n",
       "    </tr>\n",
       "    <tr>\n",
       "      <th>3</th>\n",
       "      <td>1726246</td>\n",
       "      <td>145310230</td>\n",
       "      <td>Craig Gentry</td>\n",
       "      <td>238</td>\n",
       "    </tr>\n",
       "    <tr>\n",
       "      <th>4</th>\n",
       "      <td>1726246</td>\n",
       "      <td>1811683</td>\n",
       "      <td>Rafael Pass</td>\n",
       "      <td>230</td>\n",
       "    </tr>\n",
       "  </tbody>\n",
       "</table>\n",
       "</div>"
      ],
      "text/plain": [
       "   author_id         id                 name  score\n",
       "0    1726246    1748224     Rafail Ostrovsky    486\n",
       "1    1726246    1752788            Dan Boneh    249\n",
       "2    1726246    1679615  Michael T. Goodrich    246\n",
       "3    1726246  145310230         Craig Gentry    238\n",
       "4    1726246    1811683          Rafael Pass    230"
      ]
     },
     "execution_count": 8,
     "metadata": {},
     "output_type": "execute_result"
    }
   ],
   "source": [
    "influenced_authors.head()"
   ]
  },
  {
   "cell_type": "code",
   "execution_count": 9,
   "metadata": {},
   "outputs": [
    {
     "data": {
      "text/plain": [
       "129008"
      ]
     },
     "execution_count": 9,
     "metadata": {},
     "output_type": "execute_result"
    }
   ],
   "source": [
    "len(influenced_authors)"
   ]
  },
  {
   "cell_type": "code",
   "execution_count": 10,
   "metadata": {},
   "outputs": [],
   "source": [
    "influenced_authors['first_name'] = influenced_authors.name.apply(lambda x: x.split()[0])"
   ]
  },
  {
   "cell_type": "code",
   "execution_count": 11,
   "metadata": {},
   "outputs": [
    {
     "data": {
      "text/html": [
       "<div>\n",
       "<style scoped>\n",
       "    .dataframe tbody tr th:only-of-type {\n",
       "        vertical-align: middle;\n",
       "    }\n",
       "\n",
       "    .dataframe tbody tr th {\n",
       "        vertical-align: top;\n",
       "    }\n",
       "\n",
       "    .dataframe thead th {\n",
       "        text-align: right;\n",
       "    }\n",
       "</style>\n",
       "<table border=\"1\" class=\"dataframe\">\n",
       "  <thead>\n",
       "    <tr style=\"text-align: right;\">\n",
       "      <th></th>\n",
       "      <th>author_id</th>\n",
       "      <th>id</th>\n",
       "      <th>name</th>\n",
       "      <th>score</th>\n",
       "      <th>first_name</th>\n",
       "    </tr>\n",
       "  </thead>\n",
       "  <tbody>\n",
       "    <tr>\n",
       "      <th>0</th>\n",
       "      <td>1726246</td>\n",
       "      <td>1748224</td>\n",
       "      <td>Rafail Ostrovsky</td>\n",
       "      <td>486</td>\n",
       "      <td>Rafail</td>\n",
       "    </tr>\n",
       "    <tr>\n",
       "      <th>1</th>\n",
       "      <td>1726246</td>\n",
       "      <td>1752788</td>\n",
       "      <td>Dan Boneh</td>\n",
       "      <td>249</td>\n",
       "      <td>Dan</td>\n",
       "    </tr>\n",
       "    <tr>\n",
       "      <th>2</th>\n",
       "      <td>1726246</td>\n",
       "      <td>1679615</td>\n",
       "      <td>Michael T. Goodrich</td>\n",
       "      <td>246</td>\n",
       "      <td>Michael</td>\n",
       "    </tr>\n",
       "    <tr>\n",
       "      <th>3</th>\n",
       "      <td>1726246</td>\n",
       "      <td>145310230</td>\n",
       "      <td>Craig Gentry</td>\n",
       "      <td>238</td>\n",
       "      <td>Craig</td>\n",
       "    </tr>\n",
       "    <tr>\n",
       "      <th>4</th>\n",
       "      <td>1726246</td>\n",
       "      <td>1811683</td>\n",
       "      <td>Rafael Pass</td>\n",
       "      <td>230</td>\n",
       "      <td>Rafael</td>\n",
       "    </tr>\n",
       "  </tbody>\n",
       "</table>\n",
       "</div>"
      ],
      "text/plain": [
       "   author_id         id                 name  score first_name\n",
       "0    1726246    1748224     Rafail Ostrovsky    486     Rafail\n",
       "1    1726246    1752788            Dan Boneh    249        Dan\n",
       "2    1726246    1679615  Michael T. Goodrich    246    Michael\n",
       "3    1726246  145310230         Craig Gentry    238      Craig\n",
       "4    1726246    1811683          Rafael Pass    230     Rafael"
      ]
     },
     "execution_count": 11,
     "metadata": {},
     "output_type": "execute_result"
    }
   ],
   "source": [
    "influenced_authors.head()"
   ]
  },
  {
   "cell_type": "code",
   "execution_count": 12,
   "metadata": {},
   "outputs": [
    {
     "data": {
      "text/html": [
       "<div>\n",
       "<style scoped>\n",
       "    .dataframe tbody tr th:only-of-type {\n",
       "        vertical-align: middle;\n",
       "    }\n",
       "\n",
       "    .dataframe tbody tr th {\n",
       "        vertical-align: top;\n",
       "    }\n",
       "\n",
       "    .dataframe thead th {\n",
       "        text-align: right;\n",
       "    }\n",
       "</style>\n",
       "<table border=\"1\" class=\"dataframe\">\n",
       "  <thead>\n",
       "    <tr style=\"text-align: right;\">\n",
       "      <th></th>\n",
       "      <th>author_id</th>\n",
       "      <th>id</th>\n",
       "      <th>name</th>\n",
       "      <th>score</th>\n",
       "      <th>first_name</th>\n",
       "    </tr>\n",
       "  </thead>\n",
       "  <tbody>\n",
       "    <tr>\n",
       "      <th>17335</th>\n",
       "      <td>28803996</td>\n",
       "      <td>1689241</td>\n",
       "      <td>Yanxi Liu</td>\n",
       "      <td>15</td>\n",
       "      <td>Yanxi</td>\n",
       "    </tr>\n",
       "    <tr>\n",
       "      <th>104905</th>\n",
       "      <td>1921515</td>\n",
       "      <td>1941805</td>\n",
       "      <td>Blazej Lewcio</td>\n",
       "      <td>19</td>\n",
       "      <td>Blazej</td>\n",
       "    </tr>\n",
       "    <tr>\n",
       "      <th>90387</th>\n",
       "      <td>2159263</td>\n",
       "      <td>145778478</td>\n",
       "      <td>Nils Stein</td>\n",
       "      <td>96</td>\n",
       "      <td>Nils</td>\n",
       "    </tr>\n",
       "    <tr>\n",
       "      <th>42430</th>\n",
       "      <td>3362957</td>\n",
       "      <td>2098502</td>\n",
       "      <td>Corrado Costa</td>\n",
       "      <td>72</td>\n",
       "      <td>Corrado</td>\n",
       "    </tr>\n",
       "    <tr>\n",
       "      <th>30598</th>\n",
       "      <td>49743071</td>\n",
       "      <td>145370903</td>\n",
       "      <td>Gabriele Guidi</td>\n",
       "      <td>41</td>\n",
       "      <td>Gabriele</td>\n",
       "    </tr>\n",
       "    <tr>\n",
       "      <th>72080</th>\n",
       "      <td>145254543</td>\n",
       "      <td>1703213</td>\n",
       "      <td>Pasi Fränti</td>\n",
       "      <td>28</td>\n",
       "      <td>Pasi</td>\n",
       "    </tr>\n",
       "    <tr>\n",
       "      <th>57329</th>\n",
       "      <td>2673376</td>\n",
       "      <td>66252329</td>\n",
       "      <td>Tommy E Cederholm</td>\n",
       "      <td>139</td>\n",
       "      <td>Tommy</td>\n",
       "    </tr>\n",
       "    <tr>\n",
       "      <th>111820</th>\n",
       "      <td>47489587</td>\n",
       "      <td>1747126</td>\n",
       "      <td>Thomas I. Strasser</td>\n",
       "      <td>41</td>\n",
       "      <td>Thomas</td>\n",
       "    </tr>\n",
       "    <tr>\n",
       "      <th>17563</th>\n",
       "      <td>1398099420</td>\n",
       "      <td>144159535</td>\n",
       "      <td>Alan C. Evans</td>\n",
       "      <td>103</td>\n",
       "      <td>Alan</td>\n",
       "    </tr>\n",
       "    <tr>\n",
       "      <th>80447</th>\n",
       "      <td>3331804</td>\n",
       "      <td>40543952</td>\n",
       "      <td>Qunjing Wang</td>\n",
       "      <td>12</td>\n",
       "      <td>Qunjing</td>\n",
       "    </tr>\n",
       "  </tbody>\n",
       "</table>\n",
       "</div>"
      ],
      "text/plain": [
       "         author_id         id                name  score first_name\n",
       "17335     28803996    1689241           Yanxi Liu     15      Yanxi\n",
       "104905     1921515    1941805       Blazej Lewcio     19     Blazej\n",
       "90387      2159263  145778478          Nils Stein     96       Nils\n",
       "42430      3362957    2098502       Corrado Costa     72    Corrado\n",
       "30598     49743071  145370903      Gabriele Guidi     41   Gabriele\n",
       "72080    145254543    1703213         Pasi Fränti     28       Pasi\n",
       "57329      2673376   66252329   Tommy E Cederholm    139      Tommy\n",
       "111820    47489587    1747126  Thomas I. Strasser     41     Thomas\n",
       "17563   1398099420  144159535       Alan C. Evans    103       Alan\n",
       "80447      3331804   40543952        Qunjing Wang     12    Qunjing"
      ]
     },
     "execution_count": 12,
     "metadata": {},
     "output_type": "execute_result"
    }
   ],
   "source": [
    "influenced_authors.sample(10)"
   ]
  },
  {
   "cell_type": "markdown",
   "metadata": {},
   "source": [
    "## Creo 'first_name'"
   ]
  },
  {
   "cell_type": "code",
   "execution_count": 13,
   "metadata": {
    "scrolled": true
   },
   "outputs": [
    {
     "data": {
      "text/html": [
       "<div>\n",
       "<style scoped>\n",
       "    .dataframe tbody tr th:only-of-type {\n",
       "        vertical-align: middle;\n",
       "    }\n",
       "\n",
       "    .dataframe tbody tr th {\n",
       "        vertical-align: top;\n",
       "    }\n",
       "\n",
       "    .dataframe thead th {\n",
       "        text-align: right;\n",
       "    }\n",
       "</style>\n",
       "<table border=\"1\" class=\"dataframe\">\n",
       "  <thead>\n",
       "    <tr style=\"text-align: right;\">\n",
       "      <th></th>\n",
       "      <th>author_id</th>\n",
       "      <th>id</th>\n",
       "      <th>name</th>\n",
       "      <th>score</th>\n",
       "      <th>first_name</th>\n",
       "    </tr>\n",
       "  </thead>\n",
       "  <tbody>\n",
       "    <tr>\n",
       "      <th>1</th>\n",
       "      <td>1726246</td>\n",
       "      <td>1752788</td>\n",
       "      <td>Dan Boneh</td>\n",
       "      <td>249</td>\n",
       "      <td>Dan</td>\n",
       "    </tr>\n",
       "    <tr>\n",
       "      <th>9</th>\n",
       "      <td>145078811</td>\n",
       "      <td>1716421</td>\n",
       "      <td>Van Jacobson</td>\n",
       "      <td>225</td>\n",
       "      <td>Van</td>\n",
       "    </tr>\n",
       "    <tr>\n",
       "      <th>10</th>\n",
       "      <td>144066998</td>\n",
       "      <td>1752788</td>\n",
       "      <td>Dan Boneh</td>\n",
       "      <td>31</td>\n",
       "      <td>Dan</td>\n",
       "    </tr>\n",
       "    <tr>\n",
       "      <th>11</th>\n",
       "      <td>144066998</td>\n",
       "      <td>144467753</td>\n",
       "      <td>Ion Stoica</td>\n",
       "      <td>27</td>\n",
       "      <td>Ion</td>\n",
       "    </tr>\n",
       "    <tr>\n",
       "      <th>12</th>\n",
       "      <td>144066998</td>\n",
       "      <td>144473638</td>\n",
       "      <td>W. Keith Edwards</td>\n",
       "      <td>26</td>\n",
       "      <td>W.</td>\n",
       "    </tr>\n",
       "    <tr>\n",
       "      <th>...</th>\n",
       "      <td>...</td>\n",
       "      <td>...</td>\n",
       "      <td>...</td>\n",
       "      <td>...</td>\n",
       "      <td>...</td>\n",
       "    </tr>\n",
       "    <tr>\n",
       "      <th>128929</th>\n",
       "      <td>3196491</td>\n",
       "      <td>144470378</td>\n",
       "      <td>Yu Lei</td>\n",
       "      <td>70</td>\n",
       "      <td>Yu</td>\n",
       "    </tr>\n",
       "    <tr>\n",
       "      <th>128943</th>\n",
       "      <td>2747138</td>\n",
       "      <td>144286539</td>\n",
       "      <td>K. Gopakumar</td>\n",
       "      <td>98</td>\n",
       "      <td>K.</td>\n",
       "    </tr>\n",
       "    <tr>\n",
       "      <th>128944</th>\n",
       "      <td>2747138</td>\n",
       "      <td>144687982</td>\n",
       "      <td>K. Gopakumar</td>\n",
       "      <td>78</td>\n",
       "      <td>K.</td>\n",
       "    </tr>\n",
       "    <tr>\n",
       "      <th>128946</th>\n",
       "      <td>2747138</td>\n",
       "      <td>1937015</td>\n",
       "      <td>R. Sudharshan Kaarthik</td>\n",
       "      <td>45</td>\n",
       "      <td>R.</td>\n",
       "    </tr>\n",
       "    <tr>\n",
       "      <th>128979</th>\n",
       "      <td>145295484</td>\n",
       "      <td>145691986</td>\n",
       "      <td>P. Jonathon Phillips</td>\n",
       "      <td>320</td>\n",
       "      <td>P.</td>\n",
       "    </tr>\n",
       "  </tbody>\n",
       "</table>\n",
       "<p>10255 rows × 5 columns</p>\n",
       "</div>"
      ],
      "text/plain": [
       "        author_id         id                    name  score first_name\n",
       "1         1726246    1752788               Dan Boneh    249        Dan\n",
       "9       145078811    1716421            Van Jacobson    225        Van\n",
       "10      144066998    1752788               Dan Boneh     31        Dan\n",
       "11      144066998  144467753              Ion Stoica     27        Ion\n",
       "12      144066998  144473638        W. Keith Edwards     26         W.\n",
       "...           ...        ...                     ...    ...        ...\n",
       "128929    3196491  144470378                  Yu Lei     70         Yu\n",
       "128943    2747138  144286539            K. Gopakumar     98         K.\n",
       "128944    2747138  144687982            K. Gopakumar     78         K.\n",
       "128946    2747138    1937015  R. Sudharshan Kaarthik     45         R.\n",
       "128979  145295484  145691986    P. Jonathon Phillips    320         P.\n",
       "\n",
       "[10255 rows x 5 columns]"
      ]
     },
     "execution_count": 13,
     "metadata": {},
     "output_type": "execute_result"
    }
   ],
   "source": [
    "influenced_authors[influenced_authors['first_name'].apply(lambda x: len(x)<4)]"
   ]
  },
  {
   "cell_type": "markdown",
   "metadata": {},
   "source": [
    "## Detecto iniciales en 'first_name' (no las descarto)"
   ]
  },
  {
   "cell_type": "code",
   "execution_count": 14,
   "metadata": {},
   "outputs": [
    {
     "data": {
      "text/plain": [
       "False    125935\n",
       "True       3073\n",
       "Name: is_initial, dtype: int64"
      ]
     },
     "execution_count": 14,
     "metadata": {},
     "output_type": "execute_result"
    }
   ],
   "source": [
    "influenced_authors['is_initial'] = influenced_authors.first_name.apply(is_initial)\n",
    "influenced_authors.is_initial.value_counts()"
   ]
  },
  {
   "cell_type": "code",
   "execution_count": 15,
   "metadata": {},
   "outputs": [
    {
     "data": {
      "text/html": [
       "<div>\n",
       "<style scoped>\n",
       "    .dataframe tbody tr th:only-of-type {\n",
       "        vertical-align: middle;\n",
       "    }\n",
       "\n",
       "    .dataframe tbody tr th {\n",
       "        vertical-align: top;\n",
       "    }\n",
       "\n",
       "    .dataframe thead th {\n",
       "        text-align: right;\n",
       "    }\n",
       "</style>\n",
       "<table border=\"1\" class=\"dataframe\">\n",
       "  <thead>\n",
       "    <tr style=\"text-align: right;\">\n",
       "      <th></th>\n",
       "      <th>author_id</th>\n",
       "      <th>id</th>\n",
       "      <th>name</th>\n",
       "      <th>score</th>\n",
       "      <th>first_name</th>\n",
       "      <th>is_initial</th>\n",
       "    </tr>\n",
       "  </thead>\n",
       "  <tbody>\n",
       "    <tr>\n",
       "      <th>0</th>\n",
       "      <td>1726246</td>\n",
       "      <td>1748224</td>\n",
       "      <td>Rafail Ostrovsky</td>\n",
       "      <td>486</td>\n",
       "      <td>Rafail</td>\n",
       "      <td>False</td>\n",
       "    </tr>\n",
       "    <tr>\n",
       "      <th>1</th>\n",
       "      <td>1726246</td>\n",
       "      <td>1752788</td>\n",
       "      <td>Dan Boneh</td>\n",
       "      <td>249</td>\n",
       "      <td>Dan</td>\n",
       "      <td>False</td>\n",
       "    </tr>\n",
       "    <tr>\n",
       "      <th>2</th>\n",
       "      <td>1726246</td>\n",
       "      <td>1679615</td>\n",
       "      <td>Michael T. Goodrich</td>\n",
       "      <td>246</td>\n",
       "      <td>Michael</td>\n",
       "      <td>False</td>\n",
       "    </tr>\n",
       "    <tr>\n",
       "      <th>3</th>\n",
       "      <td>1726246</td>\n",
       "      <td>145310230</td>\n",
       "      <td>Craig Gentry</td>\n",
       "      <td>238</td>\n",
       "      <td>Craig</td>\n",
       "      <td>False</td>\n",
       "    </tr>\n",
       "    <tr>\n",
       "      <th>4</th>\n",
       "      <td>1726246</td>\n",
       "      <td>1811683</td>\n",
       "      <td>Rafael Pass</td>\n",
       "      <td>230</td>\n",
       "      <td>Rafael</td>\n",
       "      <td>False</td>\n",
       "    </tr>\n",
       "  </tbody>\n",
       "</table>\n",
       "</div>"
      ],
      "text/plain": [
       "   author_id         id                 name  score first_name  is_initial\n",
       "0    1726246    1748224     Rafail Ostrovsky    486     Rafail       False\n",
       "1    1726246    1752788            Dan Boneh    249        Dan       False\n",
       "2    1726246    1679615  Michael T. Goodrich    246    Michael       False\n",
       "3    1726246  145310230         Craig Gentry    238      Craig       False\n",
       "4    1726246    1811683          Rafael Pass    230     Rafael       False"
      ]
     },
     "execution_count": 15,
     "metadata": {},
     "output_type": "execute_result"
    }
   ],
   "source": [
    "influenced_authors.head()"
   ]
  },
  {
   "cell_type": "code",
   "execution_count": 16,
   "metadata": {},
   "outputs": [],
   "source": [
    "# influenced_authors = influenced_authors[~ influenced_authors.is_initial]"
   ]
  },
  {
   "cell_type": "code",
   "execution_count": 17,
   "metadata": {},
   "outputs": [
    {
     "data": {
      "text/plain": [
       "129008"
      ]
     },
     "execution_count": 17,
     "metadata": {},
     "output_type": "execute_result"
    }
   ],
   "source": [
    "len(influenced_authors)"
   ]
  },
  {
   "cell_type": "markdown",
   "metadata": {},
   "source": [
    "## Genderizo archivo para id unicos"
   ]
  },
  {
   "cell_type": "code",
   "execution_count": 18,
   "metadata": {},
   "outputs": [],
   "source": [
    "influenced_authors_uniques = influenced_authors[['id', 'first_name']].drop_duplicates()"
   ]
  },
  {
   "cell_type": "code",
   "execution_count": 19,
   "metadata": {},
   "outputs": [
    {
     "data": {
      "text/plain": [
       "64060"
      ]
     },
     "execution_count": 19,
     "metadata": {},
     "output_type": "execute_result"
    }
   ],
   "source": [
    "len(influenced_authors_uniques)"
   ]
  },
  {
   "cell_type": "code",
   "execution_count": 20,
   "metadata": {},
   "outputs": [
    {
     "data": {
      "text/html": [
       "<div>\n",
       "<style scoped>\n",
       "    .dataframe tbody tr th:only-of-type {\n",
       "        vertical-align: middle;\n",
       "    }\n",
       "\n",
       "    .dataframe tbody tr th {\n",
       "        vertical-align: top;\n",
       "    }\n",
       "\n",
       "    .dataframe thead th {\n",
       "        text-align: right;\n",
       "    }\n",
       "</style>\n",
       "<table border=\"1\" class=\"dataframe\">\n",
       "  <thead>\n",
       "    <tr style=\"text-align: right;\">\n",
       "      <th></th>\n",
       "      <th>id</th>\n",
       "      <th>first_name</th>\n",
       "    </tr>\n",
       "  </thead>\n",
       "  <tbody>\n",
       "    <tr>\n",
       "      <th>0</th>\n",
       "      <td>1748224</td>\n",
       "      <td>Rafail</td>\n",
       "    </tr>\n",
       "    <tr>\n",
       "      <th>1</th>\n",
       "      <td>1752788</td>\n",
       "      <td>Dan</td>\n",
       "    </tr>\n",
       "    <tr>\n",
       "      <th>2</th>\n",
       "      <td>1679615</td>\n",
       "      <td>Michael</td>\n",
       "    </tr>\n",
       "    <tr>\n",
       "      <th>3</th>\n",
       "      <td>145310230</td>\n",
       "      <td>Craig</td>\n",
       "    </tr>\n",
       "    <tr>\n",
       "      <th>4</th>\n",
       "      <td>1811683</td>\n",
       "      <td>Rafael</td>\n",
       "    </tr>\n",
       "  </tbody>\n",
       "</table>\n",
       "</div>"
      ],
      "text/plain": [
       "          id first_name\n",
       "0    1748224     Rafail\n",
       "1    1752788        Dan\n",
       "2    1679615    Michael\n",
       "3  145310230      Craig\n",
       "4    1811683     Rafael"
      ]
     },
     "execution_count": 20,
     "metadata": {},
     "output_type": "execute_result"
    }
   ],
   "source": [
    "influenced_authors_uniques.head()"
   ]
  },
  {
   "cell_type": "code",
   "execution_count": 21,
   "metadata": {},
   "outputs": [],
   "source": [
    "influenced_authors_uniques['gender'] = influenced_authors_uniques.first_name.apply(lambda x: d.get_gender(x))"
   ]
  },
  {
   "cell_type": "code",
   "execution_count": 22,
   "metadata": {},
   "outputs": [
    {
     "data": {
      "text/html": [
       "<div>\n",
       "<style scoped>\n",
       "    .dataframe tbody tr th:only-of-type {\n",
       "        vertical-align: middle;\n",
       "    }\n",
       "\n",
       "    .dataframe tbody tr th {\n",
       "        vertical-align: top;\n",
       "    }\n",
       "\n",
       "    .dataframe thead th {\n",
       "        text-align: right;\n",
       "    }\n",
       "</style>\n",
       "<table border=\"1\" class=\"dataframe\">\n",
       "  <thead>\n",
       "    <tr style=\"text-align: right;\">\n",
       "      <th></th>\n",
       "      <th>id</th>\n",
       "      <th>first_name</th>\n",
       "      <th>gender</th>\n",
       "    </tr>\n",
       "  </thead>\n",
       "  <tbody>\n",
       "    <tr>\n",
       "      <th>0</th>\n",
       "      <td>1748224</td>\n",
       "      <td>Rafail</td>\n",
       "      <td>male</td>\n",
       "    </tr>\n",
       "    <tr>\n",
       "      <th>1</th>\n",
       "      <td>1752788</td>\n",
       "      <td>Dan</td>\n",
       "      <td>male</td>\n",
       "    </tr>\n",
       "    <tr>\n",
       "      <th>2</th>\n",
       "      <td>1679615</td>\n",
       "      <td>Michael</td>\n",
       "      <td>male</td>\n",
       "    </tr>\n",
       "    <tr>\n",
       "      <th>3</th>\n",
       "      <td>145310230</td>\n",
       "      <td>Craig</td>\n",
       "      <td>male</td>\n",
       "    </tr>\n",
       "    <tr>\n",
       "      <th>4</th>\n",
       "      <td>1811683</td>\n",
       "      <td>Rafael</td>\n",
       "      <td>male</td>\n",
       "    </tr>\n",
       "  </tbody>\n",
       "</table>\n",
       "</div>"
      ],
      "text/plain": [
       "          id first_name gender\n",
       "0    1748224     Rafail   male\n",
       "1    1752788        Dan   male\n",
       "2    1679615    Michael   male\n",
       "3  145310230      Craig   male\n",
       "4    1811683     Rafael   male"
      ]
     },
     "execution_count": 22,
     "metadata": {},
     "output_type": "execute_result"
    }
   ],
   "source": [
    "influenced_authors_uniques.head()"
   ]
  },
  {
   "cell_type": "markdown",
   "metadata": {},
   "source": [
    "## Mergeo con archivo original"
   ]
  },
  {
   "cell_type": "code",
   "execution_count": 23,
   "metadata": {},
   "outputs": [],
   "source": [
    "influenced_authors = influenced_authors.merge(influenced_authors_uniques, on=['id', 'first_name'], how='left')"
   ]
  },
  {
   "cell_type": "code",
   "execution_count": 24,
   "metadata": {},
   "outputs": [
    {
     "data": {
      "text/html": [
       "<div>\n",
       "<style scoped>\n",
       "    .dataframe tbody tr th:only-of-type {\n",
       "        vertical-align: middle;\n",
       "    }\n",
       "\n",
       "    .dataframe tbody tr th {\n",
       "        vertical-align: top;\n",
       "    }\n",
       "\n",
       "    .dataframe thead th {\n",
       "        text-align: right;\n",
       "    }\n",
       "</style>\n",
       "<table border=\"1\" class=\"dataframe\">\n",
       "  <thead>\n",
       "    <tr style=\"text-align: right;\">\n",
       "      <th></th>\n",
       "      <th>author_id</th>\n",
       "      <th>id</th>\n",
       "      <th>name</th>\n",
       "      <th>score</th>\n",
       "      <th>first_name</th>\n",
       "      <th>is_initial</th>\n",
       "      <th>gender</th>\n",
       "    </tr>\n",
       "  </thead>\n",
       "  <tbody>\n",
       "    <tr>\n",
       "      <th>12</th>\n",
       "      <td>144066998</td>\n",
       "      <td>144473638</td>\n",
       "      <td>W. Keith Edwards</td>\n",
       "      <td>26</td>\n",
       "      <td>W.</td>\n",
       "      <td>True</td>\n",
       "      <td>unknown</td>\n",
       "    </tr>\n",
       "    <tr>\n",
       "      <th>33</th>\n",
       "      <td>40448872</td>\n",
       "      <td>1703441</td>\n",
       "      <td>Mihir Bellare</td>\n",
       "      <td>117</td>\n",
       "      <td>Mihir</td>\n",
       "      <td>False</td>\n",
       "      <td>unknown</td>\n",
       "    </tr>\n",
       "    <tr>\n",
       "      <th>35</th>\n",
       "      <td>35964168</td>\n",
       "      <td>144161012</td>\n",
       "      <td>Kannan Ramchandran</td>\n",
       "      <td>76</td>\n",
       "      <td>Kannan</td>\n",
       "      <td>False</td>\n",
       "      <td>unknown</td>\n",
       "    </tr>\n",
       "    <tr>\n",
       "      <th>37</th>\n",
       "      <td>35964168</td>\n",
       "      <td>1806989</td>\n",
       "      <td>Avideh Zakhor</td>\n",
       "      <td>64</td>\n",
       "      <td>Avideh</td>\n",
       "      <td>False</td>\n",
       "      <td>unknown</td>\n",
       "    </tr>\n",
       "    <tr>\n",
       "      <th>44</th>\n",
       "      <td>1764975</td>\n",
       "      <td>1687984</td>\n",
       "      <td>Shamkant B. Navathe</td>\n",
       "      <td>50</td>\n",
       "      <td>Shamkant</td>\n",
       "      <td>False</td>\n",
       "      <td>unknown</td>\n",
       "    </tr>\n",
       "    <tr>\n",
       "      <th>...</th>\n",
       "      <td>...</td>\n",
       "      <td>...</td>\n",
       "      <td>...</td>\n",
       "      <td>...</td>\n",
       "      <td>...</td>\n",
       "      <td>...</td>\n",
       "      <td>...</td>\n",
       "    </tr>\n",
       "    <tr>\n",
       "      <th>128960</th>\n",
       "      <td>91889051</td>\n",
       "      <td>3189258</td>\n",
       "      <td>Simira Papadopoulou</td>\n",
       "      <td>81</td>\n",
       "      <td>Simira</td>\n",
       "      <td>False</td>\n",
       "      <td>unknown</td>\n",
       "    </tr>\n",
       "    <tr>\n",
       "      <th>128968</th>\n",
       "      <td>3415759</td>\n",
       "      <td>51118223</td>\n",
       "      <td>Ulia Trifonova</td>\n",
       "      <td>3</td>\n",
       "      <td>Ulia</td>\n",
       "      <td>False</td>\n",
       "      <td>unknown</td>\n",
       "    </tr>\n",
       "    <tr>\n",
       "      <th>128979</th>\n",
       "      <td>145295484</td>\n",
       "      <td>145691986</td>\n",
       "      <td>P. Jonathon Phillips</td>\n",
       "      <td>320</td>\n",
       "      <td>P.</td>\n",
       "      <td>True</td>\n",
       "      <td>unknown</td>\n",
       "    </tr>\n",
       "    <tr>\n",
       "      <th>128981</th>\n",
       "      <td>145295484</td>\n",
       "      <td>50295995</td>\n",
       "      <td>Xiaoou Tang</td>\n",
       "      <td>242</td>\n",
       "      <td>Xiaoou</td>\n",
       "      <td>False</td>\n",
       "      <td>unknown</td>\n",
       "    </tr>\n",
       "    <tr>\n",
       "      <th>128993</th>\n",
       "      <td>144507111</td>\n",
       "      <td>117135138</td>\n",
       "      <td>Bernell K. Stone</td>\n",
       "      <td>10</td>\n",
       "      <td>Bernell</td>\n",
       "      <td>False</td>\n",
       "      <td>unknown</td>\n",
       "    </tr>\n",
       "  </tbody>\n",
       "</table>\n",
       "<p>16664 rows × 7 columns</p>\n",
       "</div>"
      ],
      "text/plain": [
       "        author_id         id                  name  score first_name  \\\n",
       "12      144066998  144473638      W. Keith Edwards     26         W.   \n",
       "33       40448872    1703441         Mihir Bellare    117      Mihir   \n",
       "35       35964168  144161012    Kannan Ramchandran     76     Kannan   \n",
       "37       35964168    1806989         Avideh Zakhor     64     Avideh   \n",
       "44        1764975    1687984   Shamkant B. Navathe     50   Shamkant   \n",
       "...           ...        ...                   ...    ...        ...   \n",
       "128960   91889051    3189258   Simira Papadopoulou     81     Simira   \n",
       "128968    3415759   51118223        Ulia Trifonova      3       Ulia   \n",
       "128979  145295484  145691986  P. Jonathon Phillips    320         P.   \n",
       "128981  145295484   50295995           Xiaoou Tang    242     Xiaoou   \n",
       "128993  144507111  117135138      Bernell K. Stone     10    Bernell   \n",
       "\n",
       "        is_initial   gender  \n",
       "12            True  unknown  \n",
       "33           False  unknown  \n",
       "35           False  unknown  \n",
       "37           False  unknown  \n",
       "44           False  unknown  \n",
       "...            ...      ...  \n",
       "128960       False  unknown  \n",
       "128968       False  unknown  \n",
       "128979        True  unknown  \n",
       "128981       False  unknown  \n",
       "128993       False  unknown  \n",
       "\n",
       "[16664 rows x 7 columns]"
      ]
     },
     "execution_count": 24,
     "metadata": {},
     "output_type": "execute_result"
    }
   ],
   "source": [
    "influenced_authors[influenced_authors.gender == 'unknown']"
   ]
  },
  {
   "cell_type": "markdown",
   "metadata": {},
   "source": [
    "##  Corroboro que no haya nulls en 'gender'"
   ]
  },
  {
   "cell_type": "code",
   "execution_count": 25,
   "metadata": {},
   "outputs": [
    {
     "data": {
      "text/html": [
       "<div>\n",
       "<style scoped>\n",
       "    .dataframe tbody tr th:only-of-type {\n",
       "        vertical-align: middle;\n",
       "    }\n",
       "\n",
       "    .dataframe tbody tr th {\n",
       "        vertical-align: top;\n",
       "    }\n",
       "\n",
       "    .dataframe thead th {\n",
       "        text-align: right;\n",
       "    }\n",
       "</style>\n",
       "<table border=\"1\" class=\"dataframe\">\n",
       "  <thead>\n",
       "    <tr style=\"text-align: right;\">\n",
       "      <th></th>\n",
       "      <th>author_id</th>\n",
       "      <th>id</th>\n",
       "      <th>name</th>\n",
       "      <th>score</th>\n",
       "      <th>first_name</th>\n",
       "      <th>is_initial</th>\n",
       "      <th>gender</th>\n",
       "    </tr>\n",
       "  </thead>\n",
       "  <tbody>\n",
       "  </tbody>\n",
       "</table>\n",
       "</div>"
      ],
      "text/plain": [
       "Empty DataFrame\n",
       "Columns: [author_id, id, name, score, first_name, is_initial, gender]\n",
       "Index: []"
      ]
     },
     "execution_count": 25,
     "metadata": {},
     "output_type": "execute_result"
    }
   ],
   "source": [
    "influenced_authors[influenced_authors.gender.isnull()]"
   ]
  },
  {
   "cell_type": "markdown",
   "metadata": {},
   "source": [
    "## Muestreo de distribucion de genero"
   ]
  },
  {
   "cell_type": "code",
   "execution_count": 26,
   "metadata": {},
   "outputs": [
    {
     "data": {
      "text/html": [
       "<div>\n",
       "<style scoped>\n",
       "    .dataframe tbody tr th:only-of-type {\n",
       "        vertical-align: middle;\n",
       "    }\n",
       "\n",
       "    .dataframe tbody tr th {\n",
       "        vertical-align: top;\n",
       "    }\n",
       "\n",
       "    .dataframe thead th {\n",
       "        text-align: right;\n",
       "    }\n",
       "</style>\n",
       "<table border=\"1\" class=\"dataframe\">\n",
       "  <thead>\n",
       "    <tr style=\"text-align: right;\">\n",
       "      <th></th>\n",
       "      <th>author_id</th>\n",
       "      <th>id</th>\n",
       "      <th>name</th>\n",
       "      <th>score</th>\n",
       "      <th>first_name</th>\n",
       "      <th>is_initial</th>\n",
       "    </tr>\n",
       "    <tr>\n",
       "      <th>gender</th>\n",
       "      <th></th>\n",
       "      <th></th>\n",
       "      <th></th>\n",
       "      <th></th>\n",
       "      <th></th>\n",
       "      <th></th>\n",
       "    </tr>\n",
       "  </thead>\n",
       "  <tbody>\n",
       "    <tr>\n",
       "      <th>andy</th>\n",
       "      <td>5622</td>\n",
       "      <td>5622</td>\n",
       "      <td>5622</td>\n",
       "      <td>5622</td>\n",
       "      <td>5622</td>\n",
       "      <td>5622</td>\n",
       "    </tr>\n",
       "    <tr>\n",
       "      <th>female</th>\n",
       "      <td>15484</td>\n",
       "      <td>15484</td>\n",
       "      <td>15484</td>\n",
       "      <td>15484</td>\n",
       "      <td>15484</td>\n",
       "      <td>15484</td>\n",
       "    </tr>\n",
       "    <tr>\n",
       "      <th>male</th>\n",
       "      <td>87293</td>\n",
       "      <td>87293</td>\n",
       "      <td>87293</td>\n",
       "      <td>87293</td>\n",
       "      <td>87293</td>\n",
       "      <td>87293</td>\n",
       "    </tr>\n",
       "    <tr>\n",
       "      <th>mostly_female</th>\n",
       "      <td>1072</td>\n",
       "      <td>1072</td>\n",
       "      <td>1072</td>\n",
       "      <td>1072</td>\n",
       "      <td>1072</td>\n",
       "      <td>1072</td>\n",
       "    </tr>\n",
       "    <tr>\n",
       "      <th>mostly_male</th>\n",
       "      <td>2873</td>\n",
       "      <td>2873</td>\n",
       "      <td>2873</td>\n",
       "      <td>2873</td>\n",
       "      <td>2873</td>\n",
       "      <td>2873</td>\n",
       "    </tr>\n",
       "    <tr>\n",
       "      <th>unknown</th>\n",
       "      <td>16664</td>\n",
       "      <td>16664</td>\n",
       "      <td>16664</td>\n",
       "      <td>16664</td>\n",
       "      <td>16664</td>\n",
       "      <td>16664</td>\n",
       "    </tr>\n",
       "  </tbody>\n",
       "</table>\n",
       "</div>"
      ],
      "text/plain": [
       "               author_id     id   name  score  first_name  is_initial\n",
       "gender                                                               \n",
       "andy                5622   5622   5622   5622        5622        5622\n",
       "female             15484  15484  15484  15484       15484       15484\n",
       "male               87293  87293  87293  87293       87293       87293\n",
       "mostly_female       1072   1072   1072   1072        1072        1072\n",
       "mostly_male         2873   2873   2873   2873        2873        2873\n",
       "unknown            16664  16664  16664  16664       16664       16664"
      ]
     },
     "execution_count": 26,
     "metadata": {},
     "output_type": "execute_result"
    }
   ],
   "source": [
    "influenced_authors_groupped = influenced_authors.groupby('gender').count()\n",
    "influenced_authors_groupped"
   ]
  },
  {
   "cell_type": "code",
   "execution_count": 27,
   "metadata": {},
   "outputs": [],
   "source": [
    "influenced_authors_groupped['gender_rate'] = round((influenced_authors_groupped['author_id']*100)/(influenced_authors_groupped['author_id'].sum()),2)"
   ]
  },
  {
   "cell_type": "code",
   "execution_count": 28,
   "metadata": {},
   "outputs": [],
   "source": [
    "influenced_authors_groupped = influenced_authors_groupped[['author_id', 'gender_rate']].rename(columns={'author_id':'count'})"
   ]
  },
  {
   "cell_type": "code",
   "execution_count": 29,
   "metadata": {},
   "outputs": [
    {
     "data": {
      "text/html": [
       "<div>\n",
       "<style scoped>\n",
       "    .dataframe tbody tr th:only-of-type {\n",
       "        vertical-align: middle;\n",
       "    }\n",
       "\n",
       "    .dataframe tbody tr th {\n",
       "        vertical-align: top;\n",
       "    }\n",
       "\n",
       "    .dataframe thead th {\n",
       "        text-align: right;\n",
       "    }\n",
       "</style>\n",
       "<table border=\"1\" class=\"dataframe\">\n",
       "  <thead>\n",
       "    <tr style=\"text-align: right;\">\n",
       "      <th></th>\n",
       "      <th>count</th>\n",
       "      <th>gender_rate</th>\n",
       "    </tr>\n",
       "    <tr>\n",
       "      <th>gender</th>\n",
       "      <th></th>\n",
       "      <th></th>\n",
       "    </tr>\n",
       "  </thead>\n",
       "  <tbody>\n",
       "    <tr>\n",
       "      <th>andy</th>\n",
       "      <td>5622</td>\n",
       "      <td>4.36</td>\n",
       "    </tr>\n",
       "    <tr>\n",
       "      <th>female</th>\n",
       "      <td>15484</td>\n",
       "      <td>12.00</td>\n",
       "    </tr>\n",
       "    <tr>\n",
       "      <th>male</th>\n",
       "      <td>87293</td>\n",
       "      <td>67.66</td>\n",
       "    </tr>\n",
       "    <tr>\n",
       "      <th>mostly_female</th>\n",
       "      <td>1072</td>\n",
       "      <td>0.83</td>\n",
       "    </tr>\n",
       "    <tr>\n",
       "      <th>mostly_male</th>\n",
       "      <td>2873</td>\n",
       "      <td>2.23</td>\n",
       "    </tr>\n",
       "    <tr>\n",
       "      <th>unknown</th>\n",
       "      <td>16664</td>\n",
       "      <td>12.92</td>\n",
       "    </tr>\n",
       "  </tbody>\n",
       "</table>\n",
       "</div>"
      ],
      "text/plain": [
       "               count  gender_rate\n",
       "gender                           \n",
       "andy            5622         4.36\n",
       "female         15484        12.00\n",
       "male           87293        67.66\n",
       "mostly_female   1072         0.83\n",
       "mostly_male     2873         2.23\n",
       "unknown        16664        12.92"
      ]
     },
     "execution_count": 29,
     "metadata": {},
     "output_type": "execute_result"
    }
   ],
   "source": [
    "influenced_authors_groupped"
   ]
  },
  {
   "cell_type": "markdown",
   "metadata": {},
   "source": [
    "## Preparo archivo a exportar"
   ]
  },
  {
   "cell_type": "code",
   "execution_count": 30,
   "metadata": {},
   "outputs": [],
   "source": [
    "file_to_export = influenced_authors[['author_id', 'id', 'name', 'score', 'is_initial', 'gender']].rename(columns={'name':'full_name'})"
   ]
  },
  {
   "cell_type": "markdown",
   "metadata": {},
   "source": [
    "## Exporto a csv"
   ]
  },
  {
   "cell_type": "code",
   "execution_count": 31,
   "metadata": {},
   "outputs": [],
   "source": [
    "if PROCESS == 'influenced':\n",
    "    file_name = 'influenced_by_author_id_name_gender.csv'\n",
    "elif PROCESS == 'influencer':\n",
    "    file_name = 'influencer_author_id_name_gender.csv'     \n",
    "else:\n",
    "    print('Falta definir variable PROCESS -go to the top-')\n",
    "    "
   ]
  },
  {
   "cell_type": "code",
   "execution_count": 32,
   "metadata": {},
   "outputs": [
    {
     "name": "stdout",
     "output_type": "stream",
     "text": [
      "Se exportó archivo influencer_author_id_name_gender.csv en la ruta ../data/ para 'influencer authors'\n"
     ]
    }
   ],
   "source": [
    "file_to_export.to_csv(DATA+file_name, index=False)\n",
    "print(\"Se exportó archivo {file_name} en la ruta {path} para '{type_author} authors'\".format(file_name=file_name, path=DATA, type_author=PROCESS)) "
   ]
  },
  {
   "cell_type": "code",
   "execution_count": 33,
   "metadata": {},
   "outputs": [
    {
     "data": {
      "text/plain": [
       "129008"
      ]
     },
     "execution_count": 33,
     "metadata": {},
     "output_type": "execute_result"
    }
   ],
   "source": [
    "len(file_to_export)"
   ]
  }
 ],
 "metadata": {
  "kernelspec": {
   "display_name": "Python 3",
   "language": "python",
   "name": "python3"
  },
  "language_info": {
   "codemirror_mode": {
    "name": "ipython",
    "version": 3
   },
   "file_extension": ".py",
   "mimetype": "text/x-python",
   "name": "python",
   "nbconvert_exporter": "python",
   "pygments_lexer": "ipython3",
   "version": "3.7.6"
  }
 },
 "nbformat": 4,
 "nbformat_minor": 4
}
